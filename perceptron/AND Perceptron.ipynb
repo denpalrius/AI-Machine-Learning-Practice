{
 "cells": [
  {
   "cell_type": "markdown",
   "id": "986addb6-a39e-4558-878f-e4645be6386e",
   "metadata": {},
   "source": [
    "## The AND Percepton"
   ]
  },
  {
   "cell_type": "code",
   "execution_count": 1,
   "id": "d334c1f7-b78e-49b7-8c23-c8fbdd54d834",
   "metadata": {
    "tags": []
   },
   "outputs": [],
   "source": [
    "import numpy as np\n",
    "import matplotlib.pyplot as plt"
   ]
  },
  {
   "cell_type": "code",
   "execution_count": 2,
   "id": "a40a8b70-d056-48db-8294-e457c51d0853",
   "metadata": {
    "tags": []
   },
   "outputs": [],
   "source": [
    "x1 = np.array([0., 0., 1., 1.], dtype = np.float32)\n",
    "x2 = np.array([0., 1., 0., 1.], dtype = np.float32) # If you don't care about precision and space you can use the 32 bit float\n",
    "\n",
    "y = np.array([0,0,0,1], dtype = int) # Expected output"
   ]
  },
  {
   "cell_type": "code",
   "execution_count": 3,
   "id": "e6928135-04a2-41c5-bdd2-b4c93b233990",
   "metadata": {
    "tags": []
   },
   "outputs": [
    {
     "data": {
      "text/plain": [
       "<matplotlib.collections.PathCollection at 0x10f9131d0>"
      ]
     },
     "execution_count": 3,
     "metadata": {},
     "output_type": "execute_result"
    },
    {
     "data": {
      "image/png": "[encoded data removed]",
      "text/plain": [
       "<Figure size 640x480 with 1 Axes>"
      ]
     },
     "metadata": {},
     "output_type": "display_data"
    }
   ],
   "source": [
    "import matplotlib.pyplot as plt\n",
    "plt.scatter(x1, x2, c=y)"
   ]
  },
  {
   "cell_type": "code",
   "execution_count": 4,
   "id": "edc44047-ce50-4566-a2fb-a999f52fa7ad",
   "metadata": {
    "tags": []
   },
   "outputs": [],
   "source": [
    "# Repeat the numbers from x1, x2 and y 50 times each\n",
    "# For example for x1, each element of x1 will be repeated 50 times, so there will be 200 sample points at the end of it\n",
    "x1 = np.repeat(x1, 50) # This is a vector/aray\n",
    "x2 = np.repeat(x2, 50) # This is a vector/aray\n",
    "y = np.repeat(y, 50) # This is a vector/aray"
   ]
  },
  {
   "cell_type": "code",
   "execution_count": 5,
   "id": "22bc7f9a-aeb8-451d-9e68-e40e01ef6453",
   "metadata": {
    "tags": []
   },
   "outputs": [
    {
     "data": {
      "text/plain": [
       "<matplotlib.collections.PathCollection at 0x10f99a910>"
      ]
     },
     "execution_count": 5,
     "metadata": {},
     "output_type": "execute_result"
    },
    {
     "data": {
      "image/png": "[encoded data removed]",
      "text/plain": [
       "<Figure size 640x480 with 1 Axes>"
      ]
     },
     "metadata": {},
     "output_type": "display_data"
    }
   ],
   "source": [
    "# Add random noise to data points \n",
    "# Why??\n",
    "x1 = x1 + np.random.rand(x1.shape[0])*0.05\n",
    "x2 = x2 + np.random.rand(x2.shape[0])*0.05\n",
    "\n",
    "plt.scatter(x1, x2, c = y)"
   ]
  },
  {
   "cell_type": "code",
   "execution_count": 6,
   "id": "d12fc99a-2a80-4eb5-bb26-89eb0f904911",
   "metadata": {
    "tags": []
   },
   "outputs": [],
   "source": [
    "# Combine x1 and x2\n",
    "X = np.column_stack((x1, x2))"
   ]
  },
  {
   "cell_type": "code",
   "execution_count": 7,
   "id": "dd297800-aa57-4109-b592-9c6903bceb98",
   "metadata": {
    "tags": []
   },
   "outputs": [
    {
     "name": "stdout",
     "output_type": "stream",
     "text": [
      "X shape:  (200, 2)\n",
      "y shape:  (200,)\n"
     ]
    }
   ],
   "source": [
    "print('X shape: ', X.shape)\n",
    "print('y shape: ', y.shape)"
   ]
  },
  {
   "cell_type": "code",
   "execution_count": 8,
   "id": "ea1645c1-dca8-4c42-a3e0-bbaaeb061d1d",
   "metadata": {
    "tags": []
   },
   "outputs": [],
   "source": [
    "# Diffusion\n",
    "# We need to shuffle the index\n",
    "# Generate indexes from 0 to 199\n",
    "shuffle_idx = np.arange(y.shape[0])"
   ]
  },
  {
   "cell_type": "code",
   "execution_count": 9,
   "id": "a96a2b35-72c0-477a-84c9-2d52eab798f6",
   "metadata": {
    "tags": []
   },
   "outputs": [
    {
     "name": "stdout",
     "output_type": "stream",
     "text": [
      "Shuffles Indices:  [ 95  15  30 158 128 115  69 170 174  45  66 182 165  78 186 177  56 152\n",
      "  82  68 124  16 148  93  65  60  84  67 125 132   9  18  55  75 150 104\n",
      " 135 137 164  76  79 197  38  24 122 195  29  19 143  86 114 173   5 126\n",
      " 117  73 140  98 172  96 169  97  31  12  35 119  42 189  90 136  51 127\n",
      " 162  41 118 113  26 139 100 111   2  77  46 187 191  85 161  36 190  61\n",
      "  22 141 101  33  11 194 159   6  27 120   4  32 142 145 109 144  10  62\n",
      " 112 146 166   0 198 153  70 123  64  44 163  28  40 108 155 156  25  23\n",
      " 184 147  81  39 168  47  94 154  43 138   3 105  53 133 180 178 185  49\n",
      "  80  34   7 110  91  83 176 181  89   8  13  59 171 131  17  72 175 134\n",
      " 167 183  63  54 107  50 196  58  48  88  21  57 160 192 129  37 157 193\n",
      "   1  52 149 130 151 103  99 116  87  74 121 199  20 188  71 106  14  92\n",
      " 179 102]\n"
     ]
    }
   ],
   "source": [
    "# Random number generator with a seed\n",
    "# It is not trully random, but just a pseudo-random\n",
    "shuffle_rng = np.random.RandomState(42)\n",
    "shuffle_rng.shuffle(shuffle_idx)\n",
    "\n",
    "print('Shuffles Indices: ', shuffle_idx)"
   ]
  },
  {
   "cell_type": "code",
   "execution_count": 10,
   "id": "403ff8b6-a594-4d01-a661-96be12e5f1db",
   "metadata": {
    "tags": []
   },
   "outputs": [],
   "source": [
    "X, y = X[shuffle_idx], y[shuffle_idx]\n",
    "# ???? What does this syntax do\n",
    "\n",
    "split_point = int(0.7 * X.shape[0])\n",
    "\n",
    "X_train, X_test = X[shuffle_idx[:split_point]], X[shuffle_idx[split_point:]] \n",
    "# ??? What is this colon notation\n",
    "y_train, y_test = y[shuffle_idx[:split_point]], y[shuffle_idx[split_point:]]"
   ]
  },
  {
   "cell_type": "code",
   "execution_count": 11,
   "id": "778216d5-5f59-456f-bc26-f6355a497c6c",
   "metadata": {
    "tags": []
   },
   "outputs": [
    {
     "name": "stdout",
     "output_type": "stream",
     "text": [
      "zero mean:  [0.48935862 0.53266549]\n",
      "unit variance(standard deviation):  [0.50034968 0.49998656]\n"
     ]
    }
   ],
   "source": [
    "# Normalisation (zero mean, unit variance)\n",
    "# When axis is 0, you are doing an operation across rows. When doing axis = 1, it is an operation across columns\n",
    "# We only need the mean and variance for the training data set because is the one used by the machine to learn\n",
    "mu = X_train.mean(axis = 0)\n",
    "sigma = X_train.std(axis = 0)\n",
    "\n",
    "print('zero mean: ', mu)\n",
    "print('unit variance(standard deviation): ', sigma)\n",
    "\n",
    "X_train = (X_train - mu) /sigma\n",
    "X_test = (X_test - mu) /sigma"
   ]
  },
  {
   "cell_type": "code",
   "execution_count": 12,
   "id": "6715cec3-e059-4a51-87a2-418062cff355",
   "metadata": {
    "tags": []
   },
   "outputs": [
    {
     "data": {
      "text/plain": [
       "array([[0.],\n",
       "       [0.],\n",
       "       [0.]])"
      ]
     },
     "execution_count": 12,
     "metadata": {},
     "output_type": "execute_result"
    }
   ],
   "source": [
    "np.zeros((3,1), dtype = float)"
   ]
  },
  {
   "cell_type": "code",
   "execution_count": 13,
   "id": "284dbad6-1686-4e07-bfcc-4b2a2b179418",
   "metadata": {
    "tags": []
   },
   "outputs": [],
   "source": [
    "class Perceptron():\n",
    "    def __init__(self, num_features):\n",
    "        self.num_features = num_features\n",
    "        self.weights = np.zeros((num_features, 1), dtype = float)\n",
    "        self.bias = np.zeros((1,), dtype = float)\n",
    "        \n",
    "    def forward(self, x):\n",
    "        linear = np.dot(x, self.weights) + self.bias\n",
    "        predictions = np.where(linear > 0., 1, 0)\n",
    "        return predictions\n",
    "    \n",
    "    def backward(self, x, y):\n",
    "        predictions = self.forward(x) # predictions is the output\n",
    "        errors = y - predictions\n",
    "        return errors\n",
    "        \n",
    "    def train(self, x, y, epochs):\n",
    "        for e in range(epochs):\n",
    "            for i in range(y.shape[0]):\n",
    "                # Doing reshape(-1) reduces the array to 1 dimension \n",
    "                self.errors = self.backward(x[i].reshape(1, self.num_features), y[i]).reshape(-1)\n",
    "                # Bring weights to the same shape as original weights\n",
    "                self.weights += (self.errors * x[i]).reshape(self.num_features, 1) \n",
    "                # bias is like a weight, but we appended 1 as the multiplicant(like x). The x of bias is 1\n",
    "                # 1 could be left out because it is inconsequential\n",
    "                self.bias += self.errors * 1 \n",
    "                \n",
    "    # Inference\n",
    "    # It's a single forward pass so we don't need epoch\n",
    "    def evaluate(self, x, y):\n",
    "        predictions = self.forward(x).reshape(-1)\n",
    "        accuracy = np.sum(predictions == y)/y.shape[0]\n",
    "        return accuracy\n"
   ]
  },
  {
   "cell_type": "code",
   "execution_count": 14,
   "id": "292ff360-6355-44f0-bc9a-6046d9ce55e6",
   "metadata": {},
   "outputs": [],
   "source": [
    "ppn = Perceptron(num_features = 2)"
   ]
  },
  {
   "cell_type": "code",
   "execution_count": 15,
   "id": "570925c3-bb1d-4024-81b6-81894312e204",
   "metadata": {
    "tags": []
   },
   "outputs": [
    {
     "name": "stdout",
     "output_type": "stream",
     "text": [
      "Model Parameters\n",
      "Weights:  [[1.01830752]\n",
      " [1.04398249]]\n",
      "Weights:  [-1.]\n"
     ]
    }
   ],
   "source": [
    "ppn.train(X_train, y_train, epochs = 5)\n",
    "\n",
    "print(\"Model Parameters\")\n",
    "print(\"Weights: \", ppn.weights)\n",
    "print(\"Weights: \", ppn.bias)"
   ]
  },
  {
   "cell_type": "code",
   "execution_count": 16,
   "id": "a23ae34e",
   "metadata": {
    "tags": []
   },
   "outputs": [
    {
     "name": "stdout",
     "output_type": "stream",
     "text": [
      "Test accuracy:  100 %\n"
     ]
    }
   ],
   "source": [
    "test_accuracy = ppn.evaluate(X_test, y_test)\n",
    "\n",
    "print('Test accuracy: ', '{:.0f}'.format(test_accuracy*100), '%')"
   ]
  },
  {
   "cell_type": "code",
   "execution_count": 50,
   "id": "690a8e68-85a4-4f98-9d5e-cdaf62b22b9a",
   "metadata": {
    "tags": []
   },
   "outputs": [
    {
     "data": {
      "text/plain": [
       "<matplotlib.legend.Legend at 0x1601bc890>"
      ]
     },
     "execution_count": 50,
     "metadata": {},
     "output_type": "execute_result"
    },
    {
     "data": {
      "image/png": "[encoded data removed]",
      "text/plain": [
       "<Figure size 700x300 with 2 Axes>"
      ]
     },
     "metadata": {},
     "output_type": "display_data"
    }
   ],
   "source": [
    "w, b = ppn.weights, ppn.bias\n",
    "\n",
    "# x1w1 + x2w2 +b = 0\n",
    "x_min = -2\n",
    "y_min = ((-(w[0]*x_min)-b[0])/w[1])\n",
    "\n",
    "x_max = 2\n",
    "y_max = ((-(w[0]*x_max)-b[0])/w[1])\n",
    "\n",
    "fig,ax = plt.subplots(1, 2, figsize=(7,3))\n",
    "\n",
    "ax[0].plot([x_min, x_max], [y_min, y_max])\n",
    "ax[1].plot([x_min, x_max], [y_min, y_max])\n",
    "ax[0].scatter(X_train[y_train==0,0], X_train[y_train==0,1], label = 'class 0', marker='o')\n",
    "ax[0].scatter(X_train[y_train==1,0], X_train[y_train==1,1], label = 'class 1', marker='s')\n",
    "\n",
    "ax[1].scatter(X_test[y_test==0,0], X_test[y_test==0,1], label = 'class 0', marker='o')\n",
    "ax[1].scatter(X_test[y_test==1,0], X_test[y_test==1,1], label = 'class 1', marker='s')\n",
    "\n",
    "ax[0].legend()\n",
    "ax[1].legend()"
   ]
  },
  {
   "cell_type": "code",
   "execution_count": null,
   "id": "8f1f414a-569a-4b25-a41f-689fbe9055e5",
   "metadata": {},
   "outputs": [],
   "source": []
  }
 ],
 "metadata": {
  "kernelspec": {
   "display_name": "Python 3 (ipykernel)",
   "language": "python",
   "name": "python3"
  },
  "language_info": {
   "codemirror_mode": {
    "name": "ipython",
    "version": 3
   },
   "file_extension": ".py",
   "mimetype": "text/x-python",
   "name": "python",
   "nbconvert_exporter": "python",
   "pygments_lexer": "ipython3",
   "version": "3.11.5"
  }
 },
 "nbformat": 4,
 "nbformat_minor": 5
}
