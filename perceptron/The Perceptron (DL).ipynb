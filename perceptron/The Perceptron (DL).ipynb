{
 "cells": [
  {
   "cell_type": "markdown",
   "id": "986addb6-a39e-4558-878f-e4645be6386e",
   "metadata": {},
   "source": [
    "## The Percepton \n",
    "Using Python Classes"
   ]
  },
  {
   "cell_type": "code",
   "execution_count": 1,
   "id": "d334c1f7-b78e-49b7-8c23-c8fbdd54d834",
   "metadata": {
    "tags": []
   },
   "outputs": [],
   "source": [
    "import numpy as np\n",
    "import matplotlib.pyplot as plt"
   ]
  },
  {
   "cell_type": "code",
   "execution_count": 16,
   "id": "a40a8b70-d056-48db-8294-e457c51d0853",
   "metadata": {
    "tags": []
   },
   "outputs": [],
   "source": [
    "x1 = np.array([0., 0., 1., 1.], dtype = np.float32)\n",
    "x2 = np.array([0., 1., 0., 1.], dtype = np.float32)"
   ]
  },
  {
   "cell_type": "markdown",
   "id": "311498c8-07f5-4889-8cf4-7790d243dc35",
   "metadata": {},
   "source": [
    "`What is the dot after 0` \\\n",
    "`What is a floating pont number?`\\\n",
    "`How do you fo flo`\\\n",
    "`If you don't care about precision and space you can use the 32 bit float`\n"
   ]
  },
  {
   "cell_type": "code",
   "execution_count": 3,
   "id": "9f8d60fc-1f1d-443d-ab74-53677a082acb",
   "metadata": {},
   "outputs": [],
   "source": [
    "y = np.array([0,0,0,1], dtype = int)"
   ]
  },
  {
   "cell_type": "markdown",
   "id": "c8c90c55-dee5-4cf3-a221-1ba10802e1bf",
   "metadata": {},
   "source": [
    "`The 0 with no decimal means integer`"
   ]
  },
  {
   "cell_type": "code",
   "execution_count": 4,
   "id": "e6928135-04a2-41c5-bdd2-b4c93b233990",
   "metadata": {
    "tags": []
   },
   "outputs": [
    {
     "data": {
      "text/plain": [
       "<matplotlib.collections.PathCollection at 0x11de12110>"
      ]
     },
     "execution_count": 4,
     "metadata": {},
     "output_type": "execute_result"
    },
    {
     "data": {
      "image/png": "[encoded data removed]",
      "text/plain": [
       "<Figure size 640x480 with 1 Axes>"
      ]
     },
     "metadata": {},
     "output_type": "display_data"
    }
   ],
   "source": [
    "import matplotlib.pyplot as plt\n",
    "plt.scatter(x1, x2, c=y)"
   ]
  },
  {
   "cell_type": "code",
   "execution_count": 5,
   "id": "edc44047-ce50-4566-a2fb-a999f52fa7ad",
   "metadata": {
    "tags": []
   },
   "outputs": [],
   "source": [
    "# Repeat the numbers from x1, x2 and y 50 times each\n",
    "# For example for x1, each element of x1 will be repeated 50 times, so there will be 200 sample points at the end of it\n",
    "x1 = np.repeat(x1, 50) # This is a vector/aray\n",
    "x2 = np.repeat(x2, 50) # This is a vector/aray\n",
    "y = np.repeat(y, 50) # This is a vector/aray"
   ]
  },
  {
   "cell_type": "code",
   "execution_count": 6,
   "id": "22bc7f9a-aeb8-451d-9e68-e40e01ef6453",
   "metadata": {
    "tags": []
   },
   "outputs": [
    {
     "data": {
      "text/plain": [
       "array([2.60784605e-02, 4.55270391e-02, 4.90992563e-02, 1.44506884e-02,\n",
       "       2.94876714e-02, 3.05949815e-02, 3.14225569e-02, 2.41511009e-02,\n",
       "       1.40550759e-02, 3.64756643e-02, 7.41394209e-03, 3.16440532e-02,\n",
       "       2.47558870e-02, 2.97552695e-04, 3.30303386e-02, 8.18555286e-03,\n",
       "       4.02055193e-02, 4.37624321e-02, 4.28894853e-02, 2.92790656e-02,\n",
       "       2.80607671e-02, 3.44163846e-03, 3.36332532e-02, 8.67047817e-03,\n",
       "       2.88259729e-02, 4.06762124e-02, 3.42634011e-03, 3.27442197e-02,\n",
       "       2.61057720e-02, 6.14742523e-03, 2.33338562e-03, 1.73372022e-02,\n",
       "       1.37318828e-02, 3.76449400e-02, 4.94852863e-02, 1.09394456e-02,\n",
       "       3.97727830e-02, 1.86457230e-02, 1.60455094e-02, 2.49247753e-02,\n",
       "       8.03120006e-04, 3.24889948e-02, 2.19072290e-02, 3.50978874e-03,\n",
       "       4.61709690e-02, 2.63724073e-02, 1.17104478e-03, 3.23508494e-02,\n",
       "       4.86153497e-02, 2.38408580e-02, 3.44654164e-02, 2.53897385e-02,\n",
       "       2.36188437e-02, 3.10599686e-02, 3.43212742e-02, 3.75186305e-03,\n",
       "       4.11023625e-03, 3.52097509e-02, 1.61829077e-02, 3.90445016e-02,\n",
       "       1.16111479e-02, 3.58163023e-02, 2.90671889e-02, 3.54409056e-02,\n",
       "       2.14463302e-02, 1.81127798e-02, 4.53310072e-02, 1.74755288e-03,\n",
       "       1.35115911e-02, 1.74511278e-02, 2.47288242e-02, 3.96267697e-02,\n",
       "       3.18480289e-02, 3.97804836e-02, 4.13904336e-02, 4.09958521e-02,\n",
       "       4.74465708e-02, 1.33841209e-02, 9.62034089e-03, 4.70601159e-02,\n",
       "       3.91552056e-02, 4.76057367e-02, 1.54620903e-02, 4.46473753e-02,\n",
       "       4.96523865e-02, 3.52062902e-02, 3.58237144e-02, 2.62214193e-02,\n",
       "       1.18205142e-04, 3.37590475e-02, 2.78915467e-02, 4.69458083e-02,\n",
       "       3.28031184e-02, 1.46036154e-02, 4.29561156e-02, 4.14406236e-02,\n",
       "       8.20103774e-03, 4.33254449e-02, 1.94236199e-02, 4.55344796e-02,\n",
       "       1.00905585e+00, 1.01225569e+00, 1.00315907e+00, 1.00076730e+00,\n",
       "       1.03369343e+00, 1.01385191e+00, 1.00253254e+00, 1.02632643e+00,\n",
       "       1.03057695e+00, 1.03259604e+00, 1.02959859e+00, 1.02017193e+00,\n",
       "       1.02737544e+00, 1.01584510e+00, 1.02498086e+00, 1.03574123e+00,\n",
       "       1.04853820e+00, 1.01246969e+00, 1.04243533e+00, 1.03835269e+00,\n",
       "       1.03005246e+00, 1.02539316e+00, 1.00046069e+00, 1.04472572e+00,\n",
       "       1.03932497e+00, 1.02922886e+00, 1.02582987e+00, 1.01495547e+00,\n",
       "       1.00925708e+00, 1.00620863e+00, 1.01625051e+00, 1.00008181e+00,\n",
       "       1.02030500e+00, 1.00767865e+00, 1.04299715e+00, 1.03762088e+00,\n",
       "       1.04103805e+00, 1.00015786e+00, 1.02520210e+00, 1.02961670e+00,\n",
       "       1.03209613e+00, 1.02120437e+00, 1.01561128e+00, 1.02630939e+00,\n",
       "       1.03028277e+00, 1.02241887e+00, 1.01400938e+00, 1.01255867e+00,\n",
       "       1.04101021e+00, 1.01182105e+00, 1.03889831e+00, 1.00460724e+00,\n",
       "       1.02267615e+00, 1.02015644e+00, 1.01711561e+00, 1.02805277e+00,\n",
       "       1.00187786e+00, 1.03628488e+00, 1.00754869e+00, 1.04824143e+00,\n",
       "       1.03653996e+00, 1.04649345e+00, 1.03476607e+00, 1.03270783e+00,\n",
       "       1.02218578e+00, 1.04278494e+00, 1.00304572e+00, 1.03693066e+00,\n",
       "       1.01372843e+00, 1.04729446e+00, 1.00431100e+00, 1.04881583e+00,\n",
       "       1.00996346e+00, 1.00049326e+00, 1.00109320e+00, 1.00674567e+00,\n",
       "       1.00331744e+00, 1.04401444e+00, 1.03223681e+00, 1.02265989e+00,\n",
       "       1.02796420e+00, 1.04815701e+00, 1.04698772e+00, 1.00053934e+00,\n",
       "       1.01886184e+00, 1.04676035e+00, 1.01071262e+00, 1.02861756e+00,\n",
       "       1.04920470e+00, 1.01910798e+00, 1.04841941e+00, 1.02753854e+00,\n",
       "       1.02887195e+00, 1.02753470e+00, 1.01993975e+00, 1.01134490e+00,\n",
       "       1.01246788e+00, 1.00157815e+00, 1.02777545e+00, 1.03302672e+00])"
      ]
     },
     "execution_count": 6,
     "metadata": {},
     "output_type": "execute_result"
    }
   ],
   "source": [
    "# Add random noise to data points\n",
    "\n",
    "\n",
    "x1 = x1 + np.random.rand(x1.shape[0])*0.05\n",
    "x2 = x2 + np.random.rand(x2.shape[0])*0.05\n",
    "\n",
    "x1"
   ]
  },
  {
   "cell_type": "code",
   "execution_count": 7,
   "id": "95961569-17d6-4614-8242-61bbb752fe8d",
   "metadata": {
    "tags": []
   },
   "outputs": [
    {
     "data": {
      "text/plain": [
       "<matplotlib.collections.PathCollection at 0x11dee3710>"
      ]
     },
     "execution_count": 7,
     "metadata": {},
     "output_type": "execute_result"
    },
    {
     "data": {
      "image/png": "[encoded data removed]",
      "text/plain": [
       "<Figure size 640x480 with 1 Axes>"
      ]
     },
     "metadata": {},
     "output_type": "display_data"
    }
   ],
   "source": [
    "plt.scatter(x1, x2, c = y)"
   ]
  },
  {
   "cell_type": "code",
   "execution_count": 8,
   "id": "d12fc99a-2a80-4eb5-bb26-89eb0f904911",
   "metadata": {
    "tags": []
   },
   "outputs": [],
   "source": [
    "# Combine x1 and x2\n",
    "X = np.column_stack((x1, x2))"
   ]
  },
  {
   "cell_type": "code",
   "execution_count": 9,
   "id": "dd297800-aa57-4109-b592-9c6903bceb98",
   "metadata": {
    "tags": []
   },
   "outputs": [
    {
     "name": "stdout",
     "output_type": "stream",
     "text": [
      "X shape:  (200, 2)\n",
      "y shape:  (200,)\n"
     ]
    }
   ],
   "source": [
    "print('X shape: ', X.shape)\n",
    "print('y shape: ', y.shape)"
   ]
  },
  {
   "cell_type": "code",
   "execution_count": 10,
   "id": "ea1645c1-dca8-4c42-a3e0-bbaaeb061d1d",
   "metadata": {
    "tags": []
   },
   "outputs": [],
   "source": [
    "# Diffusion\n",
    "# We need to shuffle the index\n",
    "# Generate indexes from 0 to 199\n",
    "shuffle_idx = np.arange(y.shape[0])"
   ]
  },
  {
   "cell_type": "code",
   "execution_count": 17,
   "id": "a96a2b35-72c0-477a-84c9-2d52eab798f6",
   "metadata": {
    "tags": []
   },
   "outputs": [
    {
     "name": "stdout",
     "output_type": "stream",
     "text": [
      "Shuffled indices:  [194 177   9  17  81 123 136  48 160 195  42 149  54 100  99  37 140  89\n",
      "  46  90  25  56  91  33 119 169 191 189  23  94  45  82  73 113 176 109\n",
      " 138 105  63  26 111  92 164  65 155 106 132  68  49 161  70  57 115 184\n",
      "  44  41 180  27  21 159  58   6  18 165 104  28  38  74  22   3 173 147\n",
      " 167 197 163 153  84 133   4   0  30 139  29 116 199  85 134 135 121  97\n",
      " 148 178  32  75 182  71  72  69  67  40 128  55 185  34 146  80  66  31\n",
      " 198   7 107  95 179   8  51 156  35 122 183 125  79 112  59 171  60  93\n",
      " 151 110  77  76 196  19  11  13  24  53 158 144 126 154   1 157 103  86\n",
      "   2 150 170 166 141 187 129  52  61 174  78  96  88  47 152 162 192  43\n",
      "  50 130  12 117  62 114  14 172 143 190  16  98 175  20  39 137 131 188\n",
      "  15   5  83 168 181 145 120  64  36 118 108 102 124  87 127  10 186 101\n",
      " 193 142]\n"
     ]
    }
   ],
   "source": [
    "# Random number generator with a seed\n",
    "# It is not trully random, but just a pseudo-random\n",
    "shuffle_rng = np.random.RandomState(42)\n",
    "shuffle_rng.shuffle(shuffle_idx)\n",
    "\n",
    "print('Shuffled indices: ', shuffle_idx)"
   ]
  },
  {
   "cell_type": "code",
   "execution_count": 12,
   "id": "403ff8b6-a594-4d01-a661-96be12e5f1db",
   "metadata": {
    "tags": []
   },
   "outputs": [],
   "source": [
    "X, y = X[shuffle_idx], y[shuffle_idx]\n",
    "# ???? What does this syntax do\n",
    "\n",
    "split_point = int(0.7 * X.shape[0])\n",
    "\n",
    "X_train, X_test = X[shuffle_idx[:split_point]], X[shuffle_idx[split_point:]] \n",
    "# ??? What is this colon notation\n",
    "y_train, y_test = y[shuffle_idx[:split_point]], y[shuffle_idx[split_point:]]"
   ]
  },
  {
   "cell_type": "code",
   "execution_count": 13,
   "id": "778216d5-5f59-456f-bc26-f6355a497c6c",
   "metadata": {
    "tags": []
   },
   "outputs": [
    {
     "name": "stdout",
     "output_type": "stream",
     "text": [
      "zero mean:  [0.49073469 0.53328198]\n",
      "unit variance(standard deviation):  [0.49798145 0.50055003]\n"
     ]
    }
   ],
   "source": [
    "# Normalisation (zero mean, unit variance)\n",
    "# When axis is 0, you are doing an operation across rows. When doing axis = 1, it is an operation across columns\n",
    "# We only need the mean and variance for the training data set because is the one used by the machine to learn\n",
    "mu = X_train.mean(axis = 0)\n",
    "sigma = X_train.std(axis = 0)\n",
    "\n",
    "print('zero mean: ', mu)\n",
    "print('unit variance(standard deviation): ', sigma)\n",
    "\n",
    "X_train = (X_train - mu) /sigma\n",
    "X_test = (X_test - mu) /sigma"
   ]
  },
  {
   "cell_type": "code",
   "execution_count": 14,
   "id": "6715cec3-e059-4a51-87a2-418062cff355",
   "metadata": {
    "tags": []
   },
   "outputs": [
    {
     "data": {
      "text/plain": [
       "array([[0.],\n",
       "       [0.],\n",
       "       [0.]])"
      ]
     },
     "execution_count": 14,
     "metadata": {},
     "output_type": "execute_result"
    }
   ],
   "source": [
    "np.zeros((3,1), dtype = float)"
   ]
  },
  {
   "cell_type": "code",
   "execution_count": 15,
   "id": "284dbad6-1686-4e07-bfcc-4b2a2b179418",
   "metadata": {
    "tags": []
   },
   "outputs": [],
   "source": [
    "class Perceptron():\n",
    "    def _init_(self, num_features):\n",
    "        self.num_features = num_features\n",
    "        self.weights = np.zeros((num_features, 1), dtype = float)\n",
    "        self.bias = np.zeroes((1,), dtype = float)"
   ]
  },
  {
   "cell_type": "code",
   "execution_count": null,
   "id": "2738d29a-b9cb-41a1-ad8c-69285beec110",
   "metadata": {},
   "outputs": [],
   "source": []
  }
 ],
 "metadata": {
  "kernelspec": {
   "display_name": "Python 3 (ipykernel)",
   "language": "python",
   "name": "python3"
  },
  "language_info": {
   "codemirror_mode": {
    "name": "ipython",
    "version": 3
   },
   "file_extension": ".py",
   "mimetype": "text/x-python",
   "name": "python",
   "nbconvert_exporter": "python",
   "pygments_lexer": "ipython3",
   "version": "3.11.5"
  }
 },
 "nbformat": 4,
 "nbformat_minor": 5
}
