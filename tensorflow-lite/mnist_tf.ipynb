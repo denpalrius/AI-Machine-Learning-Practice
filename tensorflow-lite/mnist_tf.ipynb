{
 "cells": [
  {
   "cell_type": "code",
   "execution_count": 11,
   "metadata": {
    "ExecuteTime": {
     "end_time": "2024-04-17T17:26:31.327670Z",
     "start_time": "2024-04-17T17:26:28.343187Z"
    },
    "id": "R6feIh_t56Za"
   },
   "outputs": [],
   "source": [
    "import tensorflow as tf\n",
    "from tensorflow.keras.datasets import mnist\n",
    "import pandas as pd\n",
    "import numpy as np\n",
    "import matplotlib.pyplot as plt"
   ]
  },
  {
   "cell_type": "code",
   "execution_count": 12,
   "metadata": {
    "ExecuteTime": {
     "end_time": "2024-04-17T17:26:31.514240Z",
     "start_time": "2024-04-17T17:26:31.329147Z"
    },
    "id": "04js7xtD56Zd"
   },
   "outputs": [],
   "source": [
    "# Load the MNIST dataset\n",
    "(x_train, y_train), (x_test, y_test) = mnist.load_data()"
   ]
  },
  {
   "cell_type": "code",
   "execution_count": 13,
   "metadata": {
    "ExecuteTime": {
     "end_time": "2024-04-17T17:26:31.591936Z",
     "start_time": "2024-04-17T17:26:31.515219Z"
    },
    "id": "51gr1td2Ae7H"
   },
   "outputs": [],
   "source": [
    "# Convert pixel values to floats\n",
    "# Normalize the input image so that each pixel value is between 0 to 1.\n",
    "x_train = x_train.astype(np.float32) / 255.0\n",
    "x_test = x_test.astype(np.float32) / 255.0"
   ]
  },
  {
   "cell_type": "code",
   "execution_count": 14,
   "metadata": {
    "ExecuteTime": {
     "end_time": "2024-04-17T17:26:31.881130Z",
     "start_time": "2024-04-17T17:26:31.593006Z"
    },
    "colab": {
     "base_uri": "https://localhost:8080/",
     "height": 473
    },
    "id": "W_8f78zR56Zd",
    "outputId": "f351f88c-d2ca-4489-c6ee-bac6fdaf762f"
   },
   "outputs": [
    {
     "data": {
      "image/png": "[encoded data removed]",
      "text/plain": [
       "<Figure size 1000x500 with 10 Axes>"
      ]
     },
     "metadata": {},
     "output_type": "display_data"
    }
   ],
   "source": [
    "# Convert a subset of the data into a DataFrame\n",
    "num_samples = 1000\n",
    "data = {\n",
    "    'Label': y_train[:num_samples],\n",
    "    'Pixels': [pixels.flatten() for pixels in x_train[:num_samples]]\n",
    "}\n",
    "df = pd.DataFrame(data)\n",
    "\n",
    "# Plot a sample of the images\n",
    "plt.figure(figsize=(10, 5))\n",
    "for i in range(10):\n",
    "    plt.subplot(2, 5, i + 1)\n",
    "    plt.imshow(df.loc[df['Label'] == i, 'Pixels'].iloc[0].reshape(28, 28), cmap='gray')\n",
    "    plt.title(f\"Digit {i}\")\n",
    "    plt.axis('off')\n",
    "plt.tight_layout()\n",
    "plt.show()"
   ]
  },
  {
   "cell_type": "code",
   "execution_count": 15,
   "metadata": {
    "ExecuteTime": {
     "end_time": "2024-04-17T17:26:31.947536Z",
     "start_time": "2024-04-17T17:26:31.883053Z"
    },
    "id": "1yauOF1g56Zf"
   },
   "outputs": [],
   "source": [
    "# Define the model architecture\n",
    "model = tf.keras.Sequential([\n",
    "  tf.keras.layers.InputLayer(input_shape=(28, 28)),\n",
    "  tf.keras.layers.Reshape(target_shape=(28, 28, 1)),\n",
    "  tf.keras.layers.Conv2D(filters=12, kernel_size=(3, 3), activation='relu'),\n",
    "  tf.keras.layers.MaxPooling2D(pool_size=(2, 2)),\n",
    "  tf.keras.layers.Flatten(),\n",
    "  tf.keras.layers.Dense(10)\n",
    "])"
   ]
  },
  {
   "cell_type": "code",
   "execution_count": 16,
   "metadata": {
    "ExecuteTime": {
     "end_time": "2024-04-17T17:26:31.954666Z",
     "start_time": "2024-04-17T17:26:31.948448Z"
    },
    "id": "8Qn7xqjz56Zf"
   },
   "outputs": [],
   "source": [
    "# Compile the model\n",
    "model.compile(optimizer='adam',\n",
    "              loss='sparse_categorical_crossentropy',\n",
    "              metrics=['accuracy'])"
   ]
  },
  {
   "cell_type": "code",
   "execution_count": null,
   "metadata": {},
   "outputs": [],
   "source": []
  },
  {
   "cell_type": "code",
   "execution_count": 17,
   "metadata": {
    "ExecuteTime": {
     "end_time": "2024-04-17T17:27:04.626726Z",
     "start_time": "2024-04-17T17:26:31.955355Z"
    },
    "colab": {
     "base_uri": "https://localhost:8080/"
    },
    "id": "XJMVbU9B56Zf",
    "outputId": "1cc51695-03c2-408f-dfd0-09a881ddc17f"
   },
   "outputs": [
    {
     "name": "stdout",
     "output_type": "stream",
     "text": [
      "Epoch 1/5\n",
      "\u001b[1m1875/1875\u001b[0m \u001b[32m━━━━━━━━━━━━━━━━━━━━\u001b[0m\u001b[37m\u001b[0m \u001b[1m6s\u001b[0m 3ms/step - accuracy: 0.5445 - loss: 2.3455 - val_accuracy: 0.4734 - val_loss: 2.3024\n",
      "Epoch 2/5\n",
      "\u001b[1m1875/1875\u001b[0m \u001b[32m━━━━━━━━━━━━━━━━━━━━\u001b[0m\u001b[37m\u001b[0m \u001b[1m6s\u001b[0m 3ms/step - accuracy: 0.4610 - loss: 2.3023 - val_accuracy: 0.4552 - val_loss: 2.3024\n",
      "Epoch 3/5\n",
      "\u001b[1m1875/1875\u001b[0m \u001b[32m━━━━━━━━━━━━━━━━━━━━\u001b[0m\u001b[37m\u001b[0m \u001b[1m6s\u001b[0m 3ms/step - accuracy: 0.4410 - loss: 2.3019 - val_accuracy: 0.4215 - val_loss: 2.3026\n",
      "Epoch 4/5\n",
      "\u001b[1m1875/1875\u001b[0m \u001b[32m━━━━━━━━━━━━━━━━━━━━\u001b[0m\u001b[37m\u001b[0m \u001b[1m6s\u001b[0m 3ms/step - accuracy: 0.4079 - loss: 2.3026 - val_accuracy: 0.4215 - val_loss: 2.3026\n",
      "Epoch 5/5\n",
      "\u001b[1m1875/1875\u001b[0m \u001b[32m━━━━━━━━━━━━━━━━━━━━\u001b[0m\u001b[37m\u001b[0m \u001b[1m6s\u001b[0m 3ms/step - accuracy: 0.4117 - loss: 2.3026 - val_accuracy: 0.4215 - val_loss: 2.3026\n"
     ]
    }
   ],
   "source": [
    "# Train the model\n",
    "history = model.fit(x_train, y_train, epochs=5, validation_data=(x_test, y_test))"
   ]
  },
  {
   "cell_type": "code",
   "execution_count": 18,
   "metadata": {
    "ExecuteTime": {
     "end_time": "2024-04-17T17:27:04.977302Z",
     "start_time": "2024-04-17T17:27:04.627793Z"
    },
    "colab": {
     "base_uri": "https://localhost:8080/"
    },
    "id": "0-FQrEBc56Zg",
    "outputId": "bfe04ffe-06f1-4590-975d-7499ca032d91"
   },
   "outputs": [
    {
     "name": "stdout",
     "output_type": "stream",
     "text": [
      "\u001b[1m313/313\u001b[0m \u001b[32m━━━━━━━━━━━━━━━━━━━━\u001b[0m\u001b[37m\u001b[0m \u001b[1m0s\u001b[0m 1ms/step - accuracy: 0.4020 - loss: 2.3026  \n",
      "Test accuracy: 0.42149999737739563\n"
     ]
    }
   ],
   "source": [
    "# Evaluate the model\n",
    "test_loss, test_acc = model.evaluate(x_test, y_test)\n",
    "print('Test accuracy:', test_acc)"
   ]
  },
  {
   "cell_type": "code",
   "execution_count": 19,
   "metadata": {
    "ExecuteTime": {
     "end_time": "2024-04-17T17:27:05.052530Z",
     "start_time": "2024-04-17T17:27:04.978168Z"
    },
    "colab": {
     "base_uri": "https://localhost:8080/",
     "height": 449
    },
    "id": "eeXd6nBU56Zg",
    "outputId": "914324a8-2261-4181-c983-f27d56d87050"
   },
   "outputs": [
    {
     "data": {
      "image/png": "[encoded data removed]",
      "text/plain": [
       "<Figure size 640x480 with 1 Axes>"
      ]
     },
     "metadata": {},
     "output_type": "display_data"
    }
   ],
   "source": [
    "# Visualize training history\n",
    "plt.plot(history.history['accuracy'], label='accuracy')\n",
    "plt.plot(history.history['val_accuracy'], label='val_accuracy')\n",
    "plt.xlabel('Epoch')\n",
    "plt.ylabel('Accuracy')\n",
    "plt.legend()\n",
    "plt.show()"
   ]
  },
  {
   "cell_type": "code",
   "execution_count": 22,
   "metadata": {},
   "outputs": [
    {
     "name": "stdout",
     "output_type": "stream",
     "text": [
      "INFO:tensorflow:Assets written to: /var/folders/kd/9h3yrkps2vj0t9zs17vt349c0000gn/T/tmpsjdmdc8n/assets\n"
     ]
    },
    {
     "name": "stderr",
     "output_type": "stream",
     "text": [
      "INFO:tensorflow:Assets written to: /var/folders/kd/9h3yrkps2vj0t9zs17vt349c0000gn/T/tmpsjdmdc8n/assets\n"
     ]
    },
    {
     "ename": "",
     "evalue": "",
     "output_type": "error",
     "traceback": [
      "\u001b[1;31mThe Kernel crashed while executing code in the current cell or a previous cell. \n",
      "\u001b[1;31mPlease review the code in the cell(s) to identify a possible cause of the failure. \n",
      "\u001b[1;31mClick <a href='https://aka.ms/vscodeJupyterKernelCrash'>here</a> for more info. \n",
      "\u001b[1;31mView Jupyter <a href='command:jupyter.viewOutput'>log</a> for further details."
     ]
    }
   ],
   "source": [
    "# Convert the model to TensorFlow Lite format\n",
    "converter = tf.lite.TFLiteConverter.from_keras_model(model)\n",
    "tflite_model = converter.convert()"
   ]
  },
  {
   "cell_type": "code",
   "execution_count": 21,
   "metadata": {
    "id": "rt2-fkCt56Zg",
    "is_executing": true
   },
   "outputs": [
    {
     "ename": "TypeError",
     "evalue": "a bytes-like object is required, not '_io.BufferedWriter'",
     "output_type": "error",
     "traceback": [
      "\u001b[0;31m---------------------------------------------------------------------------\u001b[0m",
      "\u001b[0;31mTypeError\u001b[0m                                 Traceback (most recent call last)",
      "Cell \u001b[0;32mIn[21], line 3\u001b[0m\n\u001b[1;32m      1\u001b[0m \u001b[38;5;66;03m# Save the TensorFlow Lite model to a file\u001b[39;00m\n\u001b[1;32m      2\u001b[0m \u001b[38;5;28;01mwith\u001b[39;00m \u001b[38;5;28mopen\u001b[39m(\u001b[38;5;124m'\u001b[39m\u001b[38;5;124mmnist_model.tflite\u001b[39m\u001b[38;5;124m'\u001b[39m, \u001b[38;5;124m'\u001b[39m\u001b[38;5;124mwb\u001b[39m\u001b[38;5;124m'\u001b[39m) \u001b[38;5;28;01mas\u001b[39;00m f:\n\u001b[0;32m----> 3\u001b[0m     f\u001b[38;5;241m.\u001b[39mwrite(f)\n",
      "\u001b[0;31mTypeError\u001b[0m: a bytes-like object is required, not '_io.BufferedWriter'"
     ]
    }
   ],
   "source": [
    "# Save the TensorFlow Lite model to a file\n",
    "with open('mnist_model.tflite', 'wb') as f:\n",
    "    f.write(tflite_model)"
   ]
  },
  {
   "cell_type": "code",
   "execution_count": null,
   "metadata": {
    "id": "BjEth6tl56Zg",
    "is_executing": true
   },
   "outputs": [],
   "source": [
    "# Perform post-training quantization\n",
    "converter.optimizations = [tf.lite.Optimize.DEFAULT]\n",
    "quantized_tflite_model = converter.convert()"
   ]
  },
  {
   "cell_type": "code",
   "execution_count": null,
   "metadata": {
    "id": "e54FJWdt56Zh",
    "is_executing": true
   },
   "outputs": [],
   "source": [
    "# Save the quantized TensorFlow Lite model to a file\n",
    "with open('quantized_mnist_model.tflite', 'wb') as f:\n",
    "    f.write(quantized_tflite_model)"
   ]
  },
  {
   "cell_type": "code",
   "execution_count": null,
   "metadata": {
    "id": "mxGIo6w7AE3s",
    "is_executing": true
   },
   "outputs": [],
   "source": [
    "def evaluate_inference_accuracy(model_path, quantized=False):\n",
    "    # Load the MNIST dataset\n",
    "    (_, _), (x_test, y_test) = mnist.load_data()\n",
    "\n",
    "    # Convert pixel values to floats and scale them to the range [0, 1]\n",
    "    x_test = x_test.astype('float32') / 255.0\n",
    "\n",
    "    if quantized:\n",
    "        # Load the quantized TensorFlow Lite model\n",
    "        interpreter = tf.lite.Interpreter(model_path=model_path)\n",
    "        interpreter.allocate_tensors()\n",
    "\n",
    "        # Get input and output details\n",
    "        input_details = interpreter.get_input_details()\n",
    "        output_details = interpreter.get_output_details()\n",
    "\n",
    "        # Perform inference on the test data\n",
    "        correct_count = 0\n",
    "        for i in range(len(x_test)):\n",
    "            # Preprocess input data\n",
    "            input_data = np.expand_dims(x_test[i], axis=0)\n",
    "            interpreter.set_tensor(input_details[0]['index'], input_data)\n",
    "\n",
    "            # Run inference\n",
    "            interpreter.invoke()\n",
    "\n",
    "            # Get the output\n",
    "            output_data = interpreter.get_tensor(output_details[0]['index'])\n",
    "\n",
    "            # Get the predicted label\n",
    "            predicted_label = np.argmax(output_data)\n",
    "\n",
    "            # Compare with the ground truth label\n",
    "            if predicted_label == y_test[i]:\n",
    "                correct_count += 1\n",
    "    else:\n",
    "        # Load the non-quantized TensorFlow Lite model\n",
    "        interpreter = tf.lite.Interpreter(model_path=model_path)\n",
    "        interpreter.allocate_tensors()\n",
    "\n",
    "        # Get input and output details\n",
    "        input_details = interpreter.get_input_details()\n",
    "        output_details = interpreter.get_output_details()\n",
    "\n",
    "        # Perform inference on the test data\n",
    "        correct_count = 0\n",
    "        for i in range(len(x_test)):\n",
    "            # Preprocess input data\n",
    "            input_data = np.expand_dims(x_test[i], axis=0).astype(np.float32)\n",
    "            interpreter.set_tensor(input_details[0]['index'], input_data)\n",
    "\n",
    "            # Run inference\n",
    "            interpreter.invoke()\n",
    "\n",
    "            # Get the output\n",
    "            output_data = interpreter.get_tensor(output_details[0]['index'])\n",
    "\n",
    "            # Get the predicted label\n",
    "            predicted_label = np.argmax(output_data)\n",
    "\n",
    "            # Compare with the ground truth label\n",
    "            if predicted_label == y_test[i]:\n",
    "                correct_count += 1\n",
    "\n",
    "    # Calculate accuracy\n",
    "    accuracy = correct_count / len(x_test)\n",
    "    return accuracy"
   ]
  },
  {
   "cell_type": "code",
   "execution_count": null,
   "metadata": {
    "colab": {
     "base_uri": "https://localhost:8080/"
    },
    "id": "Ghxph5G2BD-K",
    "is_executing": true,
    "outputId": "757711bb-7dd2-4072-e583-d4075b9a6ea6"
   },
   "outputs": [],
   "source": [
    "non_quantized_model_accuracy = evaluate_inference_accuracy('mnist_model.tflite', quantized=False)\n",
    "print(\"Non-Quantized Model Accuracy:\", non_quantized_model_accuracy)\n",
    "\n",
    "quantized_model_accuracy = evaluate_inference_accuracy('quantized_mnist_model.tflite', quantized=True)\n",
    "print(\"Quantized Model Accuracy:\", quantized_model_accuracy)"
   ]
  }
 ],
 "metadata": {
  "colab": {
   "provenance": []
  },
  "kernelspec": {
   "display_name": "base",
   "language": "python",
   "name": "python3"
  },
  "language_info": {
   "codemirror_mode": {
    "name": "ipython",
    "version": 3
   },
   "file_extension": ".py",
   "mimetype": "text/x-python",
   "name": "python",
   "nbconvert_exporter": "python",
   "pygments_lexer": "ipython3",
   "version": "3.11.5"
  }
 },
 "nbformat": 4,
 "nbformat_minor": 0
}
