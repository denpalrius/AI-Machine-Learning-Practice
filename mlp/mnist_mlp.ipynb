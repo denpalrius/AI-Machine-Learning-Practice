{
  "cells": [
    {
      "cell_type": "markdown",
      "metadata": {
        "id": "NDjceH74_JXO"
      },
      "source": [
        "# Multi-Layer Perceptron (MLP) using MNIST"
      ]
    },
    {
      "cell_type": "markdown",
      "metadata": {},
      "source": [
        "<a target=\"_blank\" href=\"https://colab.research.google.com/github/denpalrius/AI-Machine-Learning-Practice/blob/main/tensorflow/basic_model.ipynb\">\n",
        "  <img src=\"https://colab.research.google.com/assets/colab-badge.svg\" alt=\"Open In Colab\"/>\n",
        "</a>"
      ]
    },
    {
      "cell_type": "code",
      "execution_count": 1,
      "metadata": {
        "id": "iKy7THLe_JXP"
      },
      "outputs": [],
      "source": [
        "import torch\n",
        "import torch.nn as nn\n",
        "import torch.optim as optim\n",
        "import torch.nn.functional as F\n",
        "from torch.utils.data import DataLoader, SubsetRandomSampler\n",
        "from torchvision import datasets, transforms\n",
        "import time\n",
        "import matplotlib.pyplot as plt\n",
        "import numpy as np"
      ]
    },
    {
      "cell_type": "markdown",
      "metadata": {
        "id": "TdsSBl71_JXP"
      },
      "source": [
        "Define epochs, batch size for gradient descent and device(gpu or cpu) to use"
      ]
    },
    {
      "cell_type": "code",
      "execution_count": 2,
      "metadata": {
        "id": "qJAntART_JXP"
      },
      "outputs": [],
      "source": [
        "BATCH_SIZE = 64\n",
        "NUM_EPOCHS = 20\n",
        "DEVICE = torch.device('cuda:0' if torch.cuda.is_available() else 'cpu')"
      ]
    },
    {
      "cell_type": "markdown",
      "metadata": {
        "id": "1y9D4i1h_JXQ"
      },
      "source": [
        "# Data preparation and exploration"
      ]
    },
    {
      "cell_type": "markdown",
      "metadata": {
        "id": "IWv4I_0W_JXQ"
      },
      "source": [
        "Create the transformer to be used to pre-process the dataset"
      ]
    },
    {
      "cell_type": "code",
      "execution_count": 3,
      "metadata": {
        "id": "XS-Xo2pn_JXQ"
      },
      "outputs": [],
      "source": [
        "transform = transforms.Compose([\n",
        "    transforms.ToTensor(),\n",
        "    transforms.Normalize((0.5,), (0.5,))\n",
        "])"
      ]
    },
    {
      "cell_type": "markdown",
      "metadata": {
        "id": "KN4KUL9I_JXQ"
      },
      "source": [
        "Acquire the training, validation and test data, using MNIST"
      ]
    },
    {
      "cell_type": "code",
      "execution_count": 4,
      "metadata": {
        "colab": {
          "base_uri": "https://localhost:8080/",
          "height": 0
        },
        "id": "lzjxW-uQ_JXQ",
        "outputId": "19ff9bd2-b7b2-44ca-9122-aa54c0b1fd4f"
      },
      "outputs": [
        {
          "name": "stdout",
          "output_type": "stream",
          "text": [
            "Downloading http://yann.lecun.com/exdb/mnist/train-images-idx3-ubyte.gz\n",
            "Failed to download (trying next):\n",
            "HTTP Error 503: Service Unavailable\n",
            "\n",
            "Downloading https://ossci-datasets.s3.amazonaws.com/mnist/train-images-idx3-ubyte.gz\n",
            "Downloading https://ossci-datasets.s3.amazonaws.com/mnist/train-images-idx3-ubyte.gz to ./data/MNIST/raw/train-images-idx3-ubyte.gz\n"
          ]
        },
        {
          "name": "stderr",
          "output_type": "stream",
          "text": [
            "100%|██████████| 9912422/9912422 [00:00<00:00, 16651685.24it/s]\n"
          ]
        },
        {
          "name": "stdout",
          "output_type": "stream",
          "text": [
            "Extracting ./data/MNIST/raw/train-images-idx3-ubyte.gz to ./data/MNIST/raw\n",
            "\n",
            "Downloading http://yann.lecun.com/exdb/mnist/train-labels-idx1-ubyte.gz\n",
            "Failed to download (trying next):\n",
            "HTTP Error 503: Service Unavailable\n",
            "\n",
            "Downloading https://ossci-datasets.s3.amazonaws.com/mnist/train-labels-idx1-ubyte.gz\n",
            "Downloading https://ossci-datasets.s3.amazonaws.com/mnist/train-labels-idx1-ubyte.gz to ./data/MNIST/raw/train-labels-idx1-ubyte.gz\n"
          ]
        },
        {
          "name": "stderr",
          "output_type": "stream",
          "text": [
            "100%|██████████| 28881/28881 [00:00<00:00, 499559.53it/s]\n"
          ]
        },
        {
          "name": "stdout",
          "output_type": "stream",
          "text": [
            "Extracting ./data/MNIST/raw/train-labels-idx1-ubyte.gz to ./data/MNIST/raw\n",
            "\n",
            "Downloading http://yann.lecun.com/exdb/mnist/t10k-images-idx3-ubyte.gz\n",
            "Failed to download (trying next):\n",
            "HTTP Error 503: Service Unavailable\n",
            "\n",
            "Downloading https://ossci-datasets.s3.amazonaws.com/mnist/t10k-images-idx3-ubyte.gz\n",
            "Downloading https://ossci-datasets.s3.amazonaws.com/mnist/t10k-images-idx3-ubyte.gz to ./data/MNIST/raw/t10k-images-idx3-ubyte.gz\n"
          ]
        },
        {
          "name": "stderr",
          "output_type": "stream",
          "text": [
            "100%|██████████| 1648877/1648877 [00:00<00:00, 4483164.79it/s]\n"
          ]
        },
        {
          "name": "stdout",
          "output_type": "stream",
          "text": [
            "Extracting ./data/MNIST/raw/t10k-images-idx3-ubyte.gz to ./data/MNIST/raw\n",
            "\n",
            "Downloading http://yann.lecun.com/exdb/mnist/t10k-labels-idx1-ubyte.gz\n",
            "Failed to download (trying next):\n",
            "HTTP Error 503: Service Unavailable\n",
            "\n",
            "Downloading https://ossci-datasets.s3.amazonaws.com/mnist/t10k-labels-idx1-ubyte.gz\n",
            "Downloading https://ossci-datasets.s3.amazonaws.com/mnist/t10k-labels-idx1-ubyte.gz to ./data/MNIST/raw/t10k-labels-idx1-ubyte.gz\n"
          ]
        },
        {
          "name": "stderr",
          "output_type": "stream",
          "text": [
            "100%|██████████| 4542/4542 [00:00<00:00, 4431386.08it/s]"
          ]
        },
        {
          "name": "stdout",
          "output_type": "stream",
          "text": [
            "Extracting ./data/MNIST/raw/t10k-labels-idx1-ubyte.gz to ./data/MNIST/raw\n",
            "\n"
          ]
        },
        {
          "name": "stderr",
          "output_type": "stream",
          "text": [
            "\n"
          ]
        }
      ],
      "source": [
        "train_dataset = datasets.MNIST(root='./data',\n",
        "                               train=True,\n",
        "                               download=True,\n",
        "                               transform=transform)\n",
        "\n",
        "valid_dataset = datasets.MNIST(root='./data',\n",
        "                               train=True,\n",
        "                               transform=transform)\n",
        "\n",
        "test_dataset = datasets.MNIST(root='./data',\n",
        "                              train=False,\n",
        "                              transform=transform)"
      ]
    },
    {
      "cell_type": "markdown",
      "metadata": {
        "id": "8Ol_rOxG_JXR"
      },
      "source": [
        "Split the training data into train and validation set"
      ]
    },
    {
      "cell_type": "code",
      "execution_count": 5,
      "metadata": {
        "id": "z3NH_4nR_JXR"
      },
      "outputs": [],
      "source": [
        "# Get the number of samples in the dataset\n",
        "n_samples = train_dataset.data.shape[0]\n",
        "\n",
        "# Define percentage of data to use for validation\n",
        "validation_fraction = 0.1"
      ]
    },
    {
      "cell_type": "code",
      "execution_count": 6,
      "metadata": {
        "id": "cmizzBuw_JXR"
      },
      "outputs": [],
      "source": [
        "validation_count = int(validation_fraction * n_samples)\n",
        "train_indices = torch.arange(0, n_samples - validation_count)\n",
        "valid_indices = torch.arange(n_samples - validation_count, n_samples)"
      ]
    },
    {
      "cell_type": "markdown",
      "metadata": {
        "id": "wWAJlDK4CKBq"
      },
      "source": [
        "Configure random samplers"
      ]
    },
    {
      "cell_type": "code",
      "execution_count": 7,
      "metadata": {
        "id": "qMzV0y4wAi4T"
      },
      "outputs": [],
      "source": [
        "train_sampler = SubsetRandomSampler(train_indices)\n",
        "valid_sampler = SubsetRandomSampler(valid_indices)"
      ]
    },
    {
      "cell_type": "markdown",
      "metadata": {
        "id": "3ksJchOPCUAZ"
      },
      "source": [
        "Set up data loaders for training validation, and testing"
      ]
    },
    {
      "cell_type": "code",
      "execution_count": 8,
      "metadata": {
        "id": "j7mTSSx0CEzx"
      },
      "outputs": [],
      "source": [
        "train_loader = DataLoader(dataset=train_dataset,\n",
        "                          batch_size=BATCH_SIZE,\n",
        "                          drop_last=True,\n",
        "                          sampler=train_sampler)\n",
        "\n",
        "valid_loader = DataLoader(dataset=valid_dataset,\n",
        "                          batch_size=BATCH_SIZE,\n",
        "                          sampler=valid_sampler)\n",
        "\n",
        "test_loader = DataLoader(dataset=test_dataset,\n",
        "                         batch_size=BATCH_SIZE,\n",
        "                         shuffle=False)"
      ]
    },
    {
      "cell_type": "markdown",
      "metadata": {
        "id": "ILgoUGdnDkFX"
      },
      "source": [
        "Checking the data dimensions before feeding to the newural network"
      ]
    },
    {
      "cell_type": "code",
      "execution_count": 9,
      "metadata": {
        "colab": {
          "base_uri": "https://localhost:8080/",
          "height": 0
        },
        "id": "7c9MqCz7DlsE",
        "outputId": "2725db78-8fda-47eb-9924-926864c05feb"
      },
      "outputs": [
        {
          "name": "stdout",
          "output_type": "stream",
          "text": [
            "Image batch dimensions: torch.Size([64, 1, 28, 28])\n",
            "Image label dimensions: torch.Size([64])\n"
          ]
        }
      ],
      "source": [
        "for images, labels in train_loader:\n",
        "  print('Image batch dimensions:', images.shape)\n",
        "  print('Image label dimensions:', labels.shape)\n",
        "  break"
      ]
    },
    {
      "cell_type": "markdown",
      "metadata": {
        "id": "kJ3nJ88rEr7d"
      },
      "source": [
        "Display a grid of sample images"
      ]
    },
    {
      "cell_type": "code",
      "execution_count": 11,
      "metadata": {
        "colab": {
          "base_uri": "https://localhost:8080/",
          "height": 468
        },
        "id": "EoFshJW0ErP7",
        "outputId": "35357893-07ab-49d3-a60a-dd6608516a46"
      },
      "outputs": [
        {
          "data": {
            "image/png": "[encoded data removed]",
            "text/plain": [
              "<Figure size 800x500 with 15 Axes>"
            ]
          },
          "metadata": {},
          "output_type": "display_data"
        }
      ],
      "source": [
        "image_count = 15\n",
        "\n",
        "plt.figure(figsize=(8, 5))\n",
        "plt.suptitle('Sample Images from the MNIST Dataset', fontsize=16)\n",
        "\n",
        "for i, (images, label) in enumerate(train_loader):\n",
        "  for j in range(image_count):\n",
        "    plt.subplot(3, 5, j + 1)\n",
        "    plt.imshow(images[j].squeeze(), cmap='gray')\n",
        "    plt.title(f\"Label: {label[j].item()}\", fontsize=10)\n",
        "    plt.axis('off')\n",
        "  break\n",
        "plt.show()"
      ]
    },
    {
      "cell_type": "markdown",
      "metadata": {
        "id": "vqpkZcXwKB0m"
      },
      "source": [
        "# Neural network architecture design\n",
        "\n",
        "Define an MLP model with two hidden layers and dropout regularization"
      ]
    },
    {
      "cell_type": "code",
      "execution_count": 12,
      "metadata": {
        "id": "ABKhXfb5FV68"
      },
      "outputs": [],
      "source": [
        "class MLP(nn.Module):\n",
        "    def __init__(self, num_features, num_hidden_1, num_hidden_2, num_classes):\n",
        "        super().__init__()\n",
        "\n",
        "        self.network = torch.nn.Sequential(\n",
        "            # 1st hidden layer\n",
        "            torch.nn.Flatten(),\n",
        "            torch.nn.Linear(num_features, num_hidden_1),\n",
        "            torch.nn.BatchNorm1d(num_hidden_1),\n",
        "            torch.nn.ReLU(),\n",
        "            torch.nn.Dropout(0.5),\n",
        "            # 2nd hidden layer\n",
        "            torch.nn.Linear(num_hidden_1, num_hidden_2),\n",
        "            torch.nn.BatchNorm1d(num_hidden_2),\n",
        "            torch.nn.ReLU(),\n",
        "            torch.nn.Dropout(0.3),\n",
        "            # output layer\n",
        "            torch.nn.Linear(num_hidden_2, num_classes)\n",
        "        )\n",
        "\n",
        "    def forward(self, x):\n",
        "        logits = self.network(x)\n",
        "        return logits"
      ]
    },
    {
      "cell_type": "markdown",
      "metadata": {
        "id": "INejgtG6SQxt"
      },
      "source": [
        "Initialize Model, Loss Function, Optimizer, and Learning Rate Scheduler"
      ]
    },
    {
      "cell_type": "code",
      "execution_count": 13,
      "metadata": {
        "id": "WzTugxFoSRkd"
      },
      "outputs": [],
      "source": [
        "model = MLP(num_features=28*28,\n",
        "            num_hidden_1=128,\n",
        "            num_hidden_2=64,\n",
        "            num_classes=10)\n",
        "\n",
        "model = model.to(DEVICE)\n",
        "criterion = nn.CrossEntropyLoss()\n",
        "optimizer = torch.optim.SGD(model.parameters(),\n",
        "                            lr=0.1,\n",
        "                            momentum=0.9,\n",
        "                            weight_decay=0.0001)\n",
        "scheduler = torch.optim.lr_scheduler.ReduceLROnPlateau(optimizer,\n",
        "                                                       factor=0.1,\n",
        "                                                       mode='min')\n",
        "\n",
        "# Create optimizer using Adam\n",
        "# optimizer = optim.Adam(model.parameters(), lr=0.001)\n",
        "\n",
        "# Create the scheduler with step decay\n",
        "# scheduler = torch.optim.lr_scheduler.StepLR(optimizer, step_size=30, gamma=0.1)\n",
        "\n",
        "# Create the scheduler with exponential decay\n",
        "# scheduler = torch.optim.lr_scheduler.ExponentialLR(optimizer, gamma=0.95)\n"
      ]
    },
    {
      "cell_type": "markdown",
      "metadata": {
        "id": "JGWnecWKWRJ8"
      },
      "source": [
        "# Training and Testing"
      ]
    },
    {
      "cell_type": "markdown",
      "metadata": {
        "id": "0NwfIvDNWgIz"
      },
      "source": [
        "Utility function to calculate the mode accuracy"
      ]
    },
    {
      "cell_type": "code",
      "execution_count": 14,
      "metadata": {
        "id": "NJS4ooyxWT4D"
      },
      "outputs": [],
      "source": [
        "def compute_accuracy(data_loader):\n",
        "    with torch.no_grad():\n",
        "        correct_pred, num_examples = 0, 0\n",
        "        for i, (features, targets) in enumerate(data_loader):\n",
        "            features = features.to(DEVICE)\n",
        "            targets = targets.float().to(DEVICE)\n",
        "            logits = model(features)\n",
        "            _, predicted_labels = torch.max(logits, 1)\n",
        "            num_examples += targets.size(0)\n",
        "            correct_pred += (predicted_labels == targets).sum()\n",
        "    return correct_pred.float()/num_examples * 100"
      ]
    },
    {
      "cell_type": "markdown",
      "metadata": {
        "id": "pW0qA6ivXuts"
      },
      "source": [
        "Train and test the model"
      ]
    },
    {
      "cell_type": "code",
      "execution_count": 15,
      "metadata": {
        "colab": {
          "base_uri": "https://localhost:8080/",
          "height": 0
        },
        "id": "R3n6BEp-Xv3P",
        "outputId": "039ed904-deba-445f-b523-1b20116614bc"
      },
      "outputs": [
        {
          "name": "stdout",
          "output_type": "stream",
          "text": [
            "Epoch:  1 / 20 | Batch  0 / 843 | Loss: 2.5543\n",
            "Epoch:  1 / 20 | Batch  100 / 843 | Loss: 0.5837\n",
            "Epoch:  1 / 20 | Batch  200 / 843 | Loss: 0.4686\n",
            "Epoch:  1 / 20 | Batch  300 / 843 | Loss: 0.2799\n",
            "Epoch:  1 / 20 | Batch  400 / 843 | Loss: 0.3236\n",
            "Epoch:  1 / 20 | Batch  500 / 843 | Loss: 0.4845\n",
            "Epoch:  1 / 20 | Batch  600 / 843 | Loss: 0.3181\n",
            "Epoch:  1 / 20 | Batch  700 / 843 | Loss: 0.2870\n",
            "Epoch:  1 / 20 | Batch  800 / 843 | Loss: 0.2534\n",
            "Epoch:  1 / 20 | Train: 95.33% | Validation: 96.48%\n",
            "Time elapsed:  0.49015893538792926  min\n",
            "Total Training Time: 0.49 min\n",
            "Test accuracy 95.30%\n",
            "=================\n",
            "\n",
            "Epoch:  2 / 20 | Batch  0 / 843 | Loss: 0.3253\n",
            "Epoch:  2 / 20 | Batch  100 / 843 | Loss: 0.4645\n",
            "Epoch:  2 / 20 | Batch  200 / 843 | Loss: 0.2740\n",
            "Epoch:  2 / 20 | Batch  300 / 843 | Loss: 0.1132\n",
            "Epoch:  2 / 20 | Batch  400 / 843 | Loss: 0.3080\n",
            "Epoch:  2 / 20 | Batch  500 / 843 | Loss: 0.2537\n",
            "Epoch:  2 / 20 | Batch  600 / 843 | Loss: 0.3340\n",
            "Epoch:  2 / 20 | Batch  700 / 843 | Loss: 0.5247\n",
            "Epoch:  2 / 20 | Batch  800 / 843 | Loss: 0.1429\n",
            "Epoch:  2 / 20 | Train: 96.31% | Validation: 97.00%\n",
            "Time elapsed:  1.0472738107045492  min\n",
            "Total Training Time: 1.05 min\n",
            "Test accuracy 96.23%\n",
            "=================\n",
            "\n",
            "Epoch:  3 / 20 | Batch  0 / 843 | Loss: 0.2466\n",
            "Epoch:  3 / 20 | Batch  100 / 843 | Loss: 0.4244\n",
            "Epoch:  3 / 20 | Batch  200 / 843 | Loss: 0.3498\n",
            "Epoch:  3 / 20 | Batch  300 / 843 | Loss: 0.2532\n",
            "Epoch:  3 / 20 | Batch  400 / 843 | Loss: 0.2032\n",
            "Epoch:  3 / 20 | Batch  500 / 843 | Loss: 0.3550\n",
            "Epoch:  3 / 20 | Batch  600 / 843 | Loss: 0.2264\n",
            "Epoch:  3 / 20 | Batch  700 / 843 | Loss: 0.3214\n",
            "Epoch:  3 / 20 | Batch  800 / 843 | Loss: 0.3076\n",
            "Epoch:  3 / 20 | Train: 96.77% | Validation: 97.28%\n",
            "Time elapsed:  1.572261639436086  min\n",
            "Total Training Time: 1.57 min\n",
            "Test accuracy 96.39%\n",
            "=================\n",
            "\n",
            "Epoch:  4 / 20 | Batch  0 / 843 | Loss: 0.2196\n",
            "Epoch:  4 / 20 | Batch  100 / 843 | Loss: 0.2252\n",
            "Epoch:  4 / 20 | Batch  200 / 843 | Loss: 0.2137\n",
            "Epoch:  4 / 20 | Batch  300 / 843 | Loss: 0.2927\n",
            "Epoch:  4 / 20 | Batch  400 / 843 | Loss: 0.2376\n",
            "Epoch:  4 / 20 | Batch  500 / 843 | Loss: 0.3105\n",
            "Epoch:  4 / 20 | Batch  600 / 843 | Loss: 0.1514\n",
            "Epoch:  4 / 20 | Batch  700 / 843 | Loss: 0.2736\n",
            "Epoch:  4 / 20 | Batch  800 / 843 | Loss: 0.2163\n",
            "Epoch:  4 / 20 | Train: 96.93% | Validation: 97.42%\n",
            "Time elapsed:  2.0507768909136455  min\n",
            "Total Training Time: 2.05 min\n",
            "Test accuracy 96.79%\n",
            "=================\n",
            "\n",
            "Epoch:  5 / 20 | Batch  0 / 843 | Loss: 0.1571\n",
            "Epoch:  5 / 20 | Batch  100 / 843 | Loss: 0.2616\n",
            "Epoch:  5 / 20 | Batch  200 / 843 | Loss: 0.2173\n",
            "Epoch:  5 / 20 | Batch  300 / 843 | Loss: 0.3264\n",
            "Epoch:  5 / 20 | Batch  400 / 843 | Loss: 0.0903\n",
            "Epoch:  5 / 20 | Batch  500 / 843 | Loss: 0.3049\n",
            "Epoch:  5 / 20 | Batch  600 / 843 | Loss: 0.3284\n",
            "Epoch:  5 / 20 | Batch  700 / 843 | Loss: 0.1515\n",
            "Epoch:  5 / 20 | Batch  800 / 843 | Loss: 0.2714\n",
            "Epoch:  5 / 20 | Train: 97.19% | Validation: 97.72%\n",
            "Time elapsed:  2.5575922250747682  min\n",
            "Total Training Time: 2.56 min\n",
            "Test accuracy 96.75%\n",
            "=================\n",
            "\n",
            "Epoch:  6 / 20 | Batch  0 / 843 | Loss: 0.4278\n",
            "Epoch:  6 / 20 | Batch  100 / 843 | Loss: 0.1449\n",
            "Epoch:  6 / 20 | Batch  200 / 843 | Loss: 0.0800\n",
            "Epoch:  6 / 20 | Batch  300 / 843 | Loss: 0.3201\n",
            "Epoch:  6 / 20 | Batch  400 / 843 | Loss: 0.2162\n",
            "Epoch:  6 / 20 | Batch  500 / 843 | Loss: 0.2274\n",
            "Epoch:  6 / 20 | Batch  600 / 843 | Loss: 0.4195\n",
            "Epoch:  6 / 20 | Batch  700 / 843 | Loss: 0.2736\n",
            "Epoch:  6 / 20 | Batch  800 / 843 | Loss: 0.2093\n",
            "Epoch:  6 / 20 | Train: 97.22% | Validation: 97.53%\n",
            "Time elapsed:  3.0431615034739177  min\n",
            "Total Training Time: 3.04 min\n",
            "Test accuracy 96.76%\n",
            "=================\n",
            "\n",
            "Epoch:  7 / 20 | Batch  0 / 843 | Loss: 0.3428\n",
            "Epoch:  7 / 20 | Batch  100 / 843 | Loss: 0.2476\n",
            "Epoch:  7 / 20 | Batch  200 / 843 | Loss: 0.1082\n",
            "Epoch:  7 / 20 | Batch  300 / 843 | Loss: 0.1704\n",
            "Epoch:  7 / 20 | Batch  400 / 843 | Loss: 0.2844\n",
            "Epoch:  7 / 20 | Batch  500 / 843 | Loss: 0.0713\n",
            "Epoch:  7 / 20 | Batch  600 / 843 | Loss: 0.2072\n",
            "Epoch:  7 / 20 | Batch  700 / 843 | Loss: 0.1417\n",
            "Epoch:  7 / 20 | Batch  800 / 843 | Loss: 0.1989\n",
            "Epoch:  7 / 20 | Train: 97.59% | Validation: 97.70%\n",
            "Time elapsed:  3.525213921070099  min\n",
            "Total Training Time: 3.53 min\n",
            "Test accuracy 97.10%\n",
            "=================\n",
            "\n",
            "Epoch:  8 / 20 | Batch  0 / 843 | Loss: 0.2055\n",
            "Epoch:  8 / 20 | Batch  100 / 843 | Loss: 0.1121\n",
            "Epoch:  8 / 20 | Batch  200 / 843 | Loss: 0.2121\n",
            "Epoch:  8 / 20 | Batch  300 / 843 | Loss: 0.2781\n",
            "Epoch:  8 / 20 | Batch  400 / 843 | Loss: 0.3040\n",
            "Epoch:  8 / 20 | Batch  500 / 843 | Loss: 0.3800\n",
            "Epoch:  8 / 20 | Batch  600 / 843 | Loss: 0.3801\n",
            "Epoch:  8 / 20 | Batch  700 / 843 | Loss: 0.3034\n",
            "Epoch:  8 / 20 | Batch  800 / 843 | Loss: 0.3089\n",
            "Epoch:  8 / 20 | Train: 97.74% | Validation: 98.00%\n",
            "Time elapsed:  4.01819007396698  min\n",
            "Total Training Time: 4.02 min\n",
            "Test accuracy 96.84%\n",
            "=================\n",
            "\n",
            "Epoch:  9 / 20 | Batch  0 / 843 | Loss: 0.2697\n",
            "Epoch:  9 / 20 | Batch  100 / 843 | Loss: 0.1814\n",
            "Epoch:  9 / 20 | Batch  200 / 843 | Loss: 0.3335\n",
            "Epoch:  9 / 20 | Batch  300 / 843 | Loss: 0.0503\n",
            "Epoch:  9 / 20 | Batch  400 / 843 | Loss: 0.2784\n",
            "Epoch:  9 / 20 | Batch  500 / 843 | Loss: 0.2596\n",
            "Epoch:  9 / 20 | Batch  600 / 843 | Loss: 0.3046\n",
            "Epoch:  9 / 20 | Batch  700 / 843 | Loss: 0.1500\n",
            "Epoch:  9 / 20 | Batch  800 / 843 | Loss: 0.2025\n",
            "Epoch:  9 / 20 | Train: 97.77% | Validation: 97.80%\n",
            "Time elapsed:  4.499972951412201  min\n",
            "Total Training Time: 4.50 min\n",
            "Test accuracy 97.06%\n",
            "=================\n",
            "\n",
            "Epoch:  10 / 20 | Batch  0 / 843 | Loss: 0.1712\n",
            "Epoch:  10 / 20 | Batch  100 / 843 | Loss: 0.1857\n",
            "Epoch:  10 / 20 | Batch  200 / 843 | Loss: 0.3372\n",
            "Epoch:  10 / 20 | Batch  300 / 843 | Loss: 0.2216\n",
            "Epoch:  10 / 20 | Batch  400 / 843 | Loss: 0.1058\n",
            "Epoch:  10 / 20 | Batch  500 / 843 | Loss: 0.3074\n",
            "Epoch:  10 / 20 | Batch  600 / 843 | Loss: 0.1205\n",
            "Epoch:  10 / 20 | Batch  700 / 843 | Loss: 0.2026\n",
            "Epoch:  10 / 20 | Batch  800 / 843 | Loss: 0.2591\n",
            "Epoch:  10 / 20 | Train: 97.65% | Validation: 97.77%\n",
            "Time elapsed:  4.99243540763855  min\n",
            "Total Training Time: 4.99 min\n",
            "Test accuracy 97.24%\n",
            "=================\n",
            "\n",
            "Epoch:  11 / 20 | Batch  0 / 843 | Loss: 0.2639\n",
            "Epoch:  11 / 20 | Batch  100 / 843 | Loss: 0.2743\n",
            "Epoch:  11 / 20 | Batch  200 / 843 | Loss: 0.2884\n",
            "Epoch:  11 / 20 | Batch  300 / 843 | Loss: 0.1415\n",
            "Epoch:  11 / 20 | Batch  400 / 843 | Loss: 0.3270\n",
            "Epoch:  11 / 20 | Batch  500 / 843 | Loss: 0.2459\n",
            "Epoch:  11 / 20 | Batch  600 / 843 | Loss: 0.1903\n",
            "Epoch:  11 / 20 | Batch  700 / 843 | Loss: 0.1633\n",
            "Epoch:  11 / 20 | Batch  800 / 843 | Loss: 0.2239\n",
            "Epoch:  11 / 20 | Train: 97.72% | Validation: 97.77%\n",
            "Time elapsed:  5.503399948279063  min\n",
            "Total Training Time: 5.50 min\n",
            "Test accuracy 97.09%\n",
            "=================\n",
            "\n",
            "Epoch:  12 / 20 | Batch  0 / 843 | Loss: 0.2677\n",
            "Epoch:  12 / 20 | Batch  100 / 843 | Loss: 0.2204\n",
            "Epoch:  12 / 20 | Batch  200 / 843 | Loss: 0.1422\n",
            "Epoch:  12 / 20 | Batch  300 / 843 | Loss: 0.2802\n",
            "Epoch:  12 / 20 | Batch  400 / 843 | Loss: 0.2617\n",
            "Epoch:  12 / 20 | Batch  500 / 843 | Loss: 0.0891\n",
            "Epoch:  12 / 20 | Batch  600 / 843 | Loss: 0.3895\n",
            "Epoch:  12 / 20 | Batch  700 / 843 | Loss: 0.1506\n",
            "Epoch:  12 / 20 | Batch  800 / 843 | Loss: 0.2637\n",
            "Epoch:  12 / 20 | Train: 97.88% | Validation: 97.92%\n",
            "Time elapsed:  6.010945280392964  min\n",
            "Total Training Time: 6.01 min\n",
            "Test accuracy 97.34%\n",
            "=================\n",
            "\n",
            "Epoch:  13 / 20 | Batch  0 / 843 | Loss: 0.2779\n",
            "Epoch:  13 / 20 | Batch  100 / 843 | Loss: 0.1846\n",
            "Epoch:  13 / 20 | Batch  200 / 843 | Loss: 0.0999\n",
            "Epoch:  13 / 20 | Batch  300 / 843 | Loss: 0.1047\n",
            "Epoch:  13 / 20 | Batch  400 / 843 | Loss: 0.1531\n",
            "Epoch:  13 / 20 | Batch  500 / 843 | Loss: 0.2854\n",
            "Epoch:  13 / 20 | Batch  600 / 843 | Loss: 0.1181\n",
            "Epoch:  13 / 20 | Batch  700 / 843 | Loss: 0.0968\n",
            "Epoch:  13 / 20 | Batch  800 / 843 | Loss: 0.0903\n",
            "Epoch:  13 / 20 | Train: 97.74% | Validation: 97.85%\n",
            "Time elapsed:  6.499260246753693  min\n",
            "Total Training Time: 6.50 min\n",
            "Test accuracy 97.14%\n",
            "=================\n",
            "\n",
            "Epoch:  14 / 20 | Batch  0 / 843 | Loss: 0.2186\n",
            "Epoch:  14 / 20 | Batch  100 / 843 | Loss: 0.1608\n",
            "Epoch:  14 / 20 | Batch  200 / 843 | Loss: 0.2335\n",
            "Epoch:  14 / 20 | Batch  300 / 843 | Loss: 0.1235\n",
            "Epoch:  14 / 20 | Batch  400 / 843 | Loss: 0.3824\n",
            "Epoch:  14 / 20 | Batch  500 / 843 | Loss: 0.0632\n",
            "Epoch:  14 / 20 | Batch  600 / 843 | Loss: 0.1975\n",
            "Epoch:  14 / 20 | Batch  700 / 843 | Loss: 0.2176\n",
            "Epoch:  14 / 20 | Batch  800 / 843 | Loss: 0.1924\n",
            "Epoch:  14 / 20 | Train: 97.92% | Validation: 97.88%\n",
            "Time elapsed:  6.999698503812154  min\n",
            "Total Training Time: 7.00 min\n",
            "Test accuracy 97.28%\n",
            "=================\n",
            "\n",
            "Epoch:  15 / 20 | Batch  0 / 843 | Loss: 0.1982\n",
            "Epoch:  15 / 20 | Batch  100 / 843 | Loss: 0.1151\n",
            "Epoch:  15 / 20 | Batch  200 / 843 | Loss: 0.2297\n",
            "Epoch:  15 / 20 | Batch  300 / 843 | Loss: 0.1235\n",
            "Epoch:  15 / 20 | Batch  400 / 843 | Loss: 0.0874\n",
            "Epoch:  15 / 20 | Batch  500 / 843 | Loss: 0.3753\n",
            "Epoch:  15 / 20 | Batch  600 / 843 | Loss: 0.1329\n",
            "Epoch:  15 / 20 | Batch  700 / 843 | Loss: 0.1700\n",
            "Epoch:  15 / 20 | Batch  800 / 843 | Loss: 0.1979\n",
            "Epoch:  15 / 20 | Train: 97.85% | Validation: 97.88%\n",
            "Time elapsed:  7.4918852090835575  min\n",
            "Total Training Time: 7.49 min\n",
            "Test accuracy 97.05%\n",
            "=================\n",
            "\n",
            "Epoch:  16 / 20 | Batch  0 / 843 | Loss: 0.1896\n",
            "Epoch:  16 / 20 | Batch  100 / 843 | Loss: 0.2775\n",
            "Epoch:  16 / 20 | Batch  200 / 843 | Loss: 0.3491\n",
            "Epoch:  16 / 20 | Batch  300 / 843 | Loss: 0.1444\n",
            "Epoch:  16 / 20 | Batch  400 / 843 | Loss: 0.3552\n",
            "Epoch:  16 / 20 | Batch  500 / 843 | Loss: 0.2242\n",
            "Epoch:  16 / 20 | Batch  600 / 843 | Loss: 0.1649\n",
            "Epoch:  16 / 20 | Batch  700 / 843 | Loss: 0.1769\n",
            "Epoch:  16 / 20 | Batch  800 / 843 | Loss: 0.1668\n",
            "Epoch:  16 / 20 | Train: 97.58% | Validation: 97.80%\n",
            "Time elapsed:  7.985213017463684  min\n",
            "Total Training Time: 7.99 min\n",
            "Test accuracy 96.99%\n",
            "=================\n",
            "\n",
            "Epoch:  17 / 20 | Batch  0 / 843 | Loss: 0.3002\n",
            "Epoch:  17 / 20 | Batch  100 / 843 | Loss: 0.1337\n",
            "Epoch:  17 / 20 | Batch  200 / 843 | Loss: 0.1731\n",
            "Epoch:  17 / 20 | Batch  300 / 843 | Loss: 0.1365\n",
            "Epoch:  17 / 20 | Batch  400 / 843 | Loss: 0.2746\n",
            "Epoch:  17 / 20 | Batch  500 / 843 | Loss: 0.2906\n",
            "Epoch:  17 / 20 | Batch  600 / 843 | Loss: 0.0562\n",
            "Epoch:  17 / 20 | Batch  700 / 843 | Loss: 0.1494\n",
            "Epoch:  17 / 20 | Batch  800 / 843 | Loss: 0.1964\n",
            "Epoch:  17 / 20 | Train: 97.89% | Validation: 97.77%\n",
            "Time elapsed:  8.485401372114817  min\n",
            "Total Training Time: 8.49 min\n",
            "Test accuracy 97.22%\n",
            "=================\n",
            "\n",
            "Epoch:  18 / 20 | Batch  0 / 843 | Loss: 0.1059\n",
            "Epoch:  18 / 20 | Batch  100 / 843 | Loss: 0.1413\n",
            "Epoch:  18 / 20 | Batch  200 / 843 | Loss: 0.2794\n",
            "Epoch:  18 / 20 | Batch  300 / 843 | Loss: 0.4690\n",
            "Epoch:  18 / 20 | Batch  400 / 843 | Loss: 0.1848\n",
            "Epoch:  18 / 20 | Batch  500 / 843 | Loss: 0.3272\n",
            "Epoch:  18 / 20 | Batch  600 / 843 | Loss: 0.2136\n",
            "Epoch:  18 / 20 | Batch  700 / 843 | Loss: 0.2240\n",
            "Epoch:  18 / 20 | Batch  800 / 843 | Loss: 0.1106\n",
            "Epoch:  18 / 20 | Train: 97.90% | Validation: 97.93%\n",
            "Time elapsed:  8.97864693403244  min\n",
            "Total Training Time: 8.98 min\n",
            "Test accuracy 97.25%\n",
            "=================\n",
            "\n",
            "Epoch:  19 / 20 | Batch  0 / 843 | Loss: 0.2370\n",
            "Epoch:  19 / 20 | Batch  100 / 843 | Loss: 0.1504\n",
            "Epoch:  19 / 20 | Batch  200 / 843 | Loss: 0.1918\n",
            "Epoch:  19 / 20 | Batch  300 / 843 | Loss: 0.2265\n",
            "Epoch:  19 / 20 | Batch  400 / 843 | Loss: 0.1116\n",
            "Epoch:  19 / 20 | Batch  500 / 843 | Loss: 0.3467\n",
            "Epoch:  19 / 20 | Batch  600 / 843 | Loss: 0.3132\n",
            "Epoch:  19 / 20 | Batch  700 / 843 | Loss: 0.3264\n",
            "Epoch:  19 / 20 | Batch  800 / 843 | Loss: 0.2827\n",
            "Epoch:  19 / 20 | Train: 97.98% | Validation: 98.10%\n",
            "Time elapsed:  9.475848857561747  min\n",
            "Total Training Time: 9.48 min\n",
            "Test accuracy 97.41%\n",
            "=================\n",
            "\n",
            "Epoch:  20 / 20 | Batch  0 / 843 | Loss: 0.1746\n",
            "Epoch:  20 / 20 | Batch  100 / 843 | Loss: 0.3625\n",
            "Epoch:  20 / 20 | Batch  200 / 843 | Loss: 0.3841\n",
            "Epoch:  20 / 20 | Batch  300 / 843 | Loss: 0.3036\n",
            "Epoch:  20 / 20 | Batch  400 / 843 | Loss: 0.1718\n",
            "Epoch:  20 / 20 | Batch  500 / 843 | Loss: 0.2535\n",
            "Epoch:  20 / 20 | Batch  600 / 843 | Loss: 0.1212\n",
            "Epoch:  20 / 20 | Batch  700 / 843 | Loss: 0.1943\n",
            "Epoch:  20 / 20 | Batch  800 / 843 | Loss: 0.0965\n",
            "Epoch:  20 / 20 | Train: 97.92% | Validation: 97.92%\n",
            "Time elapsed:  9.973218035697936  min\n",
            "Total Training Time: 9.97 min\n",
            "Test accuracy 97.29%\n",
            "=================\n",
            "\n"
          ]
        }
      ],
      "source": [
        "import time\n",
        "\n",
        "start_time = time.time()\n",
        "minibatch_loss_list, train_acc_list, valid_acc_list = [], [], []\n",
        "\n",
        "for epoch in range(NUM_EPOCHS):\n",
        "    model.train()\n",
        "\n",
        "    for batch_idx, (features, targets) in enumerate(train_loader):\n",
        "        features = features.to(DEVICE)\n",
        "        targets = targets.to(DEVICE)\n",
        "\n",
        "        # FORWARD AND BACK PROP\n",
        "        logits = model(features)\n",
        "\n",
        "        # loss = F.cross_entropy(logits, targets)\n",
        "        optimizer.zero_grad()\n",
        "        loss = criterion(logits, targets)\n",
        "        optimizer.zero_grad()\n",
        "\n",
        "        loss.backward()\n",
        "\n",
        "        # UPDATE MODEL PARAMETERS\n",
        "        optimizer.step()\n",
        "\n",
        "        # LOGGING\n",
        "        minibatch_loss_list.append(loss.item())\n",
        "        logging_interval = 100\n",
        "\n",
        "        if not batch_idx % logging_interval:\n",
        "            print(\"Epoch: \", epoch+1, \"/\", NUM_EPOCHS, \n",
        "                  \"| Batch \", batch_idx,\n",
        "                  \"/\", len(train_loader), \n",
        "                  f'| Loss: {loss:.4f}')\n",
        "\n",
        "    model.eval()\n",
        "\n",
        "    with torch.no_grad():  # save memory during inference\n",
        "        train_acc = compute_accuracy(train_loader)\n",
        "        valid_acc = compute_accuracy(valid_loader)\n",
        "        print(\"Epoch: \", epoch+1, \"/\", NUM_EPOCHS,\n",
        "              f'| Train: {train_acc :.2f}% '\n",
        "              f'| Validation: {valid_acc :.2f}%')\n",
        "\n",
        "        train_acc_list.append(train_acc.item())\n",
        "        valid_acc_list.append(valid_acc.item())\n",
        "\n",
        "    elapsed = (time.time() - start_time) / 60\n",
        "    print(\"Time elapsed: \", elapsed, \" min\")\n",
        "    scheduler.step(minibatch_loss_list[-1])\n",
        "\n",
        "    elapsed = (time.time() - start_time) / 60\n",
        "    print(f'Total Training Time: {elapsed:.2f} min')\n",
        "\n",
        "    test_acc = compute_accuracy(test_loader)\n",
        "    print(f'Test accuracy {test_acc :.2f}%')\n",
        "\n",
        "    print('=================\\n')"
      ]
    },
    {
      "cell_type": "markdown",
      "metadata": {
        "id": "Bgt22pcKZwhA"
      },
      "source": [
        "Visualize the training progress"
      ]
    },
    {
      "cell_type": "code",
      "execution_count": 16,
      "metadata": {
        "colab": {
          "base_uri": "https://localhost:8080/",
          "height": 467
        },
        "id": "rwwkOpMvZvtW",
        "outputId": "972d6e4d-b36a-4ba4-d7c1-088188a913fb"
      },
      "outputs": [
        {
          "data": {
            "text/plain": [
              "Text(0, 0.5, 'Loss')"
            ]
          },
          "execution_count": 16,
          "metadata": {},
          "output_type": "execute_result"
        },
        {
          "data": {
            "image/png": "[encoded data removed]",
            "text/plain": [
              "<Figure size 640x480 with 1 Axes>"
            ]
          },
          "metadata": {},
          "output_type": "display_data"
        }
      ],
      "source": [
        "plt.plot(range(len(minibatch_loss_list)), minibatch_loss_list)\n",
        "plt.xlabel('Iterations')\n",
        "plt.ylabel('Loss')"
      ]
    },
    {
      "cell_type": "markdown",
      "metadata": {
        "id": "R-mS4KtEZ_yk"
      },
      "source": [
        "Compare the training and validation accuracies over epochs"
      ]
    },
    {
      "cell_type": "code",
      "execution_count": 17,
      "metadata": {
        "colab": {
          "base_uri": "https://localhost:8080/",
          "height": 467
        },
        "id": "yfnhuJ66aDk8",
        "outputId": "fe3bc275-f2bf-49f6-9364-8091ed9d9264"
      },
      "outputs": [
        {
          "data": {
            "text/plain": [
              "<matplotlib.legend.Legend at 0x7b31ed631ed0>"
            ]
          },
          "execution_count": 17,
          "metadata": {},
          "output_type": "execute_result"
        },
        {
          "data": {
            "image/png": "[encoded data removed]",
            "text/plain": [
              "<Figure size 640x480 with 1 Axes>"
            ]
          },
          "metadata": {},
          "output_type": "display_data"
        }
      ],
      "source": [
        "num_epochs = len(train_acc_list)\n",
        "plt.plot(np.arange(1, num_epochs+1),\n",
        "         train_acc_list, label='Training')\n",
        "plt.plot(np.arange(1, num_epochs+1),\n",
        "         valid_acc_list, label='Validation')\n",
        "plt.xlabel('Epoch')\n",
        "plt.ylabel('Accuracy')\n",
        "plt.legend()"
      ]
    }
  ],
  "metadata": {
    "accelerator": "GPU",
    "colab": {
      "gpuType": "T4",
      "provenance": []
    },
    "kernelspec": {
      "display_name": "Python 3",
      "name": "python3"
    },
    "language_info": {
      "codemirror_mode": {
        "name": "ipython",
        "version": 3
      },
      "file_extension": ".py",
      "mimetype": "text/x-python",
      "name": "python",
      "nbconvert_exporter": "python",
      "pygments_lexer": "ipython3",
      "version": "3.11.5"
    }
  },
  "nbformat": 4,
  "nbformat_minor": 0
}
