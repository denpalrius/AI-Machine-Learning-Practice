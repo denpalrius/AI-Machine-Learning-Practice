{
 "cells": [
  {
   "cell_type": "code",
   "execution_count": null,
   "metadata": {},
   "outputs": [],
   "source": [
    "!pip3 install ultralytics"
   ]
  },
  {
   "cell_type": "code",
   "execution_count": 2,
   "metadata": {},
   "outputs": [],
   "source": [
    "from ultralytics import YOLO\n",
    "model = YOLO(\"yolov8s.pt\")"
   ]
  },
  {
   "cell_type": "code",
   "execution_count": 4,
   "metadata": {},
   "outputs": [
    {
     "name": "stdout",
     "output_type": "stream",
     "text": [
      "Ultralytics YOLOv8.1.45 🚀 Python-3.11.5 torch-2.2.2 CPU (Apple M1 Pro)\n",
      "\u001b[34m\u001b[1mengine/trainer: \u001b[0mtask=detect, mode=train, model=yolov8s.pt, data=coco128.yaml, epochs=10, time=None, patience=100, batch=16, imgsz=640, save=True, save_period=-1, cache=False, device=None, workers=8, project=None, name=train5, exist_ok=False, pretrained=True, optimizer=auto, verbose=True, seed=0, deterministic=True, single_cls=False, rect=False, cos_lr=False, close_mosaic=10, resume=False, amp=True, fraction=1.0, profile=False, freeze=None, multi_scale=False, overlap_mask=True, mask_ratio=4, dropout=0.0, val=True, split=val, save_json=False, save_hybrid=False, conf=None, iou=0.7, max_det=300, half=False, dnn=False, plots=True, source=None, vid_stride=1, stream_buffer=False, visualize=False, augment=False, agnostic_nms=False, classes=None, retina_masks=False, embed=None, show=False, save_frames=False, save_txt=False, save_conf=False, save_crop=False, show_labels=True, show_conf=True, show_boxes=True, line_width=None, format=torchscript, keras=False, optimize=False, int8=False, dynamic=False, simplify=False, opset=None, workspace=4, nms=False, lr0=0.01, lrf=0.01, momentum=0.937, weight_decay=0.0005, warmup_epochs=3.0, warmup_momentum=0.8, warmup_bias_lr=0.1, box=7.5, cls=0.5, dfl=1.5, pose=12.0, kobj=1.0, label_smoothing=0.0, nbs=64, hsv_h=0.015, hsv_s=0.7, hsv_v=0.4, degrees=0.0, translate=0.1, scale=0.5, shear=0.0, perspective=0.0, flipud=0.0, fliplr=0.5, bgr=0.0, mosaic=1.0, mixup=0.0, copy_paste=0.0, auto_augment=randaugment, erasing=0.4, crop_fraction=1.0, cfg=None, tracker=botsort.yaml, save_dir=runs/detect/train5\n",
      "\n",
      "Dataset 'coco128.yaml' images not found ⚠️, missing path '/Users/mzitoh/Desktop/USD-Source/ML-AI-practice/yolo/datasets/coco128/images/train2017'\n",
      "Downloading https://ultralytics.com/assets/coco128.zip to '/Users/mzitoh/Desktop/USD-Source/ML-AI-practice/yolo/datasets/coco128.zip'...\n",
      "⚠️ Download failure, retrying 1/3 https://ultralytics.com/assets/coco128.zip...\n"
     ]
    },
    {
     "name": "stderr",
     "output_type": "stream",
     "text": [
      "curl: (6) Could not resolve host: ultralytics.com                      #  # # \n",
      "Warning: Problem : timeout. Will retry in 1 seconds. 3 retries left.\n",
      "curl: (6) Could not resolve host: ultralytics.com                             \n",
      "Warning: Problem : timeout. Will retry in 2 seconds. 2 retries left.\n",
      "curl: (6) Could not resolve host: ultralytics.com    #     #                  \n",
      "Warning: Problem : timeout. Will retry in 4 seconds. 1 retries left.\n",
      "-=O=-                                   #     #     #     #                   \r"
     ]
    },
    {
     "name": "stdout",
     "output_type": "stream",
     "text": [
      "⚠️ Download failure, retrying 2/3 https://ultralytics.com/assets/coco128.zip...\n"
     ]
    },
    {
     "name": "stderr",
     "output_type": "stream",
     "text": [
      "curl: (6) Could not resolve host: ultralytics.com #    #                      \n",
      "\n",
      "curl: (6) Could not resolve host: ultralytics.com                      #  # # \n",
      "Warning: Problem : timeout. Will retry in 1 seconds. 3 retries left.\n",
      "curl: (6) Could not resolve host: ultralytics.com                             \n",
      "Warning: Problem : timeout. Will retry in 2 seconds. 2 retries left.\n",
      "curl: (6) Could not resolve host: ultralytics.com  #     #                    \n",
      "Warning: Problem : timeout. Will retry in 4 seconds. 1 retries left.\n",
      "-=O=-                                   #     #     #     #                   \r"
     ]
    },
    {
     "name": "stdout",
     "output_type": "stream",
     "text": [
      "⚠️ Download failure, retrying 3/3 https://ultralytics.com/assets/coco128.zip...\n"
     ]
    },
    {
     "name": "stderr",
     "output_type": "stream",
     "text": [
      "curl: (6) Could not resolve host: ultralytics.com #    #                      \n",
      "\n",
      "curl: (6) Could not resolve host: ultralytics.com                      #  # # \n",
      "Warning: Problem : timeout. Will retry in 1 seconds. 3 retries left.\n",
      "curl: (6) Could not resolve host: ultralytics.com                             \n",
      "Warning: Problem : timeout. Will retry in 2 seconds. 2 retries left.\n",
      "curl: (6) Could not resolve host: ultralytics.com   #                         \n",
      "Warning: Problem : timeout. Will retry in 4 seconds. 1 retries left.\n"
     ]
    }
   ],
   "source": [
    "test_image = \"../images/train2017/000000000030.jpg\"\n",
    "no_epochs = 10 # 100\n",
    "\n",
    "results = model.train(data=\"coco128.yaml\", epochs=no_epochs)\n",
    "results = model(test_image)"
   ]
  },
  {
   "cell_type": "code",
   "execution_count": null,
   "metadata": {},
   "outputs": [],
   "source": []
  }
 ],
 "metadata": {
  "kernelspec": {
   "display_name": "base",
   "language": "python",
   "name": "python3"
  },
  "language_info": {
   "codemirror_mode": {
    "name": "ipython",
    "version": 3
   },
   "file_extension": ".py",
   "mimetype": "text/x-python",
   "name": "python",
   "nbconvert_exporter": "python",
   "pygments_lexer": "ipython3",
   "version": "3.11.5"
  }
 },
 "nbformat": 4,
 "nbformat_minor": 2
}
