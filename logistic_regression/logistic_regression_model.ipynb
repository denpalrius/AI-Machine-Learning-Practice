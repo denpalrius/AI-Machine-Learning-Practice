{
 "cells": [
  {
   "cell_type": "markdown",
   "metadata": {},
   "source": [
    "##### Implementing a logistic regression model from scratch\n",
    "- Unlike linear regression, the goal of logistic regression is to find probabilites in data\n",
    "- We pass the model outputs through a sigmoid functionn in order to transform them into probabilities that range form 0 to 1\n",
    "<div style=\"display: flex; align-items: center;\">\n",
    "  <figure style=\"padding: 10px;\">\n",
    "    <img src=\"images/sigmoid_fn.png\" alt=\"Sigmoid Function\" width=\"250\">\n",
    "    <figcaption><i>Sigmoid function</i></figcaption>\n",
    "  </figure>\n",
    "  <figure style=\"padding: 10px;\">\n",
    "    <img src=\"images/sigmoid_fn_h.png\" alt=\"Hypothesis Function\" width=\"250\">\n",
    "    <figcaption><i>Hypothesis function</i></figcaption>\n",
    "  </figure>\n",
    "  <figure style=\"padding: 10px;\">\n",
    "    <img src=\"images/sigmoid_curve.png\" alt=\"Sigmoid plot\" width=\"300\">\n",
    "    <figcaption><i>Sigmoid plot</i></figcaption>\n",
    "  </figure>\n",
    "</div>\n",
    "\n",
    "- Error evaluation using cross-entoropy\n",
    "- Gradient descent to calculate the gradient of the error function above, in terms of the weight and bias \n",
    "\n",
    "[Resource](https://www.youtube.com/watch?v=YYEJ_GUguHw&t=58s&ab_channel=AssemblyAI)"
   ]
  },
  {
   "cell_type": "markdown",
   "metadata": {},
   "source": [
    "##### Create the sigmoid function"
   ]
  },
  {
   "cell_type": "code",
   "execution_count": 2,
   "metadata": {},
   "outputs": [],
   "source": [
    "import numpy as np\n",
    "\n",
    "def sigmoid(y):\n",
    "    return 1/(1 + np.exp(-y))"
   ]
  },
  {
   "cell_type": "markdown",
   "metadata": {},
   "source": [
    "##### Create the logistic regression model"
   ]
  },
  {
   "cell_type": "code",
   "execution_count": 3,
   "metadata": {},
   "outputs": [],
   "source": [
    "class LogisticRegression():\n",
    "    def __init__(self, lr=0.001, n_iters=1000):\n",
    "        self.lr = lr\n",
    "        self.n_iters = n_iters\n",
    "        self.weights = None\n",
    "        self.bias = None\n",
    "\n",
    "    def fit(self, X, y):\n",
    "        n_samples, n_features = X.shape\n",
    "        self.weights = np.zeros(n_features)\n",
    "        self.bias = 0\n",
    "\n",
    "        for _ in range(self.n_iters):\n",
    "            liner_pred = np.dot(X, self.weights) + self.bias\n",
    "            predictions = sigmoid(liner_pred)\n",
    "\n",
    "            # Find gradients  ?????\n",
    "            residuals = predictions - y\n",
    "            dw  = 1/n_samples * np.dot(X.T, residuals)\n",
    "            db = 1/n_samples * np.sum(residuals)\n",
    "\n",
    "            # Update weights and bias ?????\n",
    "            self.weights = self.weights - self.lr * dw\n",
    "            self.bias = self.bias - self.lr * db\n",
    "\n",
    "    def predict(self, X):\n",
    "        liner_pred = np.dot(X, self.weights) + self.bias\n",
    "        y_pred = sigmoid(liner_pred) # the probabilities \n",
    "        class_pred = [0 if y<0.5 else 1 for y in y_pred]\n",
    "        return class_pred\n"
   ]
  },
  {
   "cell_type": "markdown",
   "metadata": {},
   "source": [
    "### Training the model"
   ]
  },
  {
   "cell_type": "code",
   "execution_count": 4,
   "metadata": {},
   "outputs": [],
   "source": [
    "import matplotlib.pyplot as plt\n",
    "\n",
    "from sklearn import datasets\n",
    "from sklearn.model_selection import train_test_split"
   ]
  },
  {
   "cell_type": "markdown",
   "metadata": {},
   "source": [
    "##### Function to calculate the model's prediction accuracy"
   ]
  },
  {
   "cell_type": "code",
   "execution_count": 5,
   "metadata": {},
   "outputs": [],
   "source": [
    "def accuracy(y_pred, y_test):\n",
    "    return np.sum(y_pred==y_test)/len(y_test)"
   ]
  },
  {
   "cell_type": "markdown",
   "metadata": {},
   "source": [
    "#### Train the model to predict breast cancer"
   ]
  },
  {
   "cell_type": "code",
   "execution_count": 10,
   "metadata": {},
   "outputs": [
    {
     "name": "stderr",
     "output_type": "stream",
     "text": [
      "/var/folders/kd/9h3yrkps2vj0t9zs17vt349c0000gn/T/ipykernel_31442/3961706383.py:4: RuntimeWarning: overflow encountered in exp\n",
      "  return 1/(1 + np.exp(-y))\n"
     ]
    },
    {
     "data": {
      "text/plain": [
       "(569, 30)"
      ]
     },
     "execution_count": 10,
     "metadata": {},
     "output_type": "execute_result"
    }
   ],
   "source": [
    "bc = datasets.load_breast_cancer()\n",
    "X, y = bc.data, bc.target\n",
    "X_train, X_test, y_train, y_test = train_test_split(X, y, test_size=0.2, random_state=1234)\n",
    "\n",
    "classifier = LogisticRegression(lr=0.2,n_iters=2000)\n",
    "classifier.fit(X_train, y_train)\n",
    "\n",
    "X.shape"
   ]
  },
  {
   "cell_type": "markdown",
   "metadata": {},
   "source": [
    "#### Evaluate the model's predictions"
   ]
  },
  {
   "cell_type": "code",
   "execution_count": 7,
   "metadata": {},
   "outputs": [
    {
     "name": "stdout",
     "output_type": "stream",
     "text": [
      "Accuracy:  0.9210526315789473\n"
     ]
    },
    {
     "name": "stderr",
     "output_type": "stream",
     "text": [
      "/var/folders/kd/9h3yrkps2vj0t9zs17vt349c0000gn/T/ipykernel_31442/3961706383.py:4: RuntimeWarning: overflow encountered in exp\n",
      "  return 1/(1 + np.exp(-y))\n"
     ]
    }
   ],
   "source": [
    "y_pred = classifier.predict(X_test)\n",
    "accuracy = accuracy(y_pred, y_test)\n",
    "\n",
    "print('Accuracy: ', accuracy)"
   ]
  },
  {
   "cell_type": "code",
   "execution_count": null,
   "metadata": {},
   "outputs": [],
   "source": []
  }
 ],
 "metadata": {
  "kernelspec": {
   "display_name": "base",
   "language": "python",
   "name": "python3"
  },
  "language_info": {
   "codemirror_mode": {
    "name": "ipython",
    "version": 3
   },
   "file_extension": ".py",
   "mimetype": "text/x-python",
   "name": "python",
   "nbconvert_exporter": "python",
   "pygments_lexer": "ipython3",
   "version": "3.11.5"
  }
 },
 "nbformat": 4,
 "nbformat_minor": 2
}
