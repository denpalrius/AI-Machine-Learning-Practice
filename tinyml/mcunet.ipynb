{
 "cells": [
  {
   "cell_type": "code",
   "execution_count": 17,
   "metadata": {},
   "outputs": [],
   "source": [
    "# !pip install mcunet -q"
   ]
  },
  {
   "cell_type": "code",
   "execution_count": 18,
   "metadata": {},
   "outputs": [
    {
     "name": "stdout",
     "output_type": "stream",
     "text": [
      "The list of models in the model zoo\n",
      "['mcunet-10fps', 'mcunet-5fps', 'mcunet-256kB', 'mcunet-320kB', 'mcunet-512kB', 'mbv2-320kB', 'proxyless-320kB', 'mcunet-10fps-vww', 'mcunet-5fps-vww', 'mcunet-320kB-vww']\n"
     ]
    }
   ],
   "source": [
    "from mcunet.model_zoo import net_id_list, build_model, download_tflite\n",
    "\n",
    "print('The list of models in the model zoo')\n",
    "print(net_id_list)"
   ]
  },
  {
   "cell_type": "code",
   "execution_count": 19,
   "metadata": {},
   "outputs": [
    {
     "name": "stdout",
     "output_type": "stream",
     "text": [
      "Description: MCUNet model that runs 10fps on STM32F746 (VWW)\n",
      "Image size: 64\n"
     ]
    }
   ],
   "source": [
    "# Download the pytorch fp32 model\\\n",
    "model_name=\"mcunet-10fps-vww\"\n",
    "model, image_size, description = build_model(net_id=model_name)\n",
    "\n",
    "print('Description: {}'.format(description))\n",
    "print('Image size: {}'.format(image_size))"
   ]
  },
  {
   "cell_type": "code",
   "execution_count": 20,
   "metadata": {},
   "outputs": [
    {
     "name": "stdout",
     "output_type": "stream",
     "text": [
      "TF Lite model doanloaded to: /Users/mzitoh/.torch/mcunet/mcunet-10fps_vww.tflite\n"
     ]
    }
   ],
   "source": [
    "# Download tflite file to tflite_path\n",
    "tflite_path = download_tflite(net_id=\"mcunet-10fps-vww\")\n",
    "print('TF Lite model doanloaded to: ' + tflite_path)"
   ]
  },
  {
   "cell_type": "markdown",
   "metadata": {},
   "source": [
    "[Implement model]"
   ]
  },
  {
   "cell_type": "markdown",
   "metadata": {},
   "source": []
  }
 ],
 "metadata": {
  "kernelspec": {
   "display_name": "class-dev",
   "language": "python",
   "name": "python3"
  },
  "language_info": {
   "codemirror_mode": {
    "name": "ipython",
    "version": 3
   },
   "file_extension": ".py",
   "mimetype": "text/x-python",
   "name": "python",
   "nbconvert_exporter": "python",
   "pygments_lexer": "ipython3",
   "version": "3.11.7"
  }
 },
 "nbformat": 4,
 "nbformat_minor": 2
}
