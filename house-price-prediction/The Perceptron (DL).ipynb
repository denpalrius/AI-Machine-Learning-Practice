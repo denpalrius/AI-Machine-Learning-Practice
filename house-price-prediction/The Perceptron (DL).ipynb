{
 "cells": [
  {
   "cell_type": "markdown",
   "id": "986addb6-a39e-4558-878f-e4645be6386e",
   "metadata": {},
   "source": [
    "## The Percepton \n",
    "Using Python Classes"
   ]
  },
  {
   "cell_type": "code",
   "execution_count": 1,
   "id": "d334c1f7-b78e-49b7-8c23-c8fbdd54d834",
   "metadata": {
    "tags": []
   },
   "outputs": [],
   "source": [
    "import numpy as np\n",
    "import matplotlib.pyplot as plt"
   ]
  },
  {
   "cell_type": "code",
   "execution_count": 2,
   "id": "a40a8b70-d056-48db-8294-e457c51d0853",
   "metadata": {
    "tags": []
   },
   "outputs": [],
   "source": [
    "x1 = np.array([0., 0., 1., 1.], dtype = np.float32)\n",
    "x2 = np.array([0., 1., 0., 1.], dtype = np.float32)"
   ]
  },
  {
   "cell_type": "markdown",
   "id": "311498c8-07f5-4889-8cf4-7790d243dc35",
   "metadata": {},
   "source": [
    "`What is the dot after 0` \\\n",
    "`What is a floating pont number?`\\\n",
    "`How do you fo flo`\\\n",
    "`If you don't care about precision and space you can use the 32 bit float`\n"
   ]
  },
  {
   "cell_type": "code",
   "execution_count": 3,
   "id": "9f8d60fc-1f1d-443d-ab74-53677a082acb",
   "metadata": {},
   "outputs": [],
   "source": [
    "y = np.array([0,0,0,1], dtype = int)"
   ]
  },
  {
   "cell_type": "markdown",
   "id": "c8c90c55-dee5-4cf3-a221-1ba10802e1bf",
   "metadata": {},
   "source": [
    "`The 0 with no decimal means integer`"
   ]
  },
  {
   "cell_type": "code",
   "execution_count": 4,
   "id": "e6928135-04a2-41c5-bdd2-b4c93b233990",
   "metadata": {
    "tags": []
   },
   "outputs": [
    {
     "data": {
      "text/plain": [
       "<matplotlib.collections.PathCollection at 0x10df20150>"
      ]
     },
     "execution_count": 4,
     "metadata": {},
     "output_type": "execute_result"
    },
    {
     "data": {
      "image/png": "[encoded data removed]",
      "text/plain": [
       "<Figure size 640x480 with 1 Axes>"
      ]
     },
     "metadata": {},
     "output_type": "display_data"
    }
   ],
   "source": [
    "import matplotlib.pyplot as plt\n",
    "plt.scatter(x1, x2, c=y)"
   ]
  },
  {
   "cell_type": "code",
   "execution_count": 5,
   "id": "edc44047-ce50-4566-a2fb-a999f52fa7ad",
   "metadata": {
    "tags": []
   },
   "outputs": [],
   "source": [
    "# Repeat the numbers from x1, x2 and y 50 times each\n",
    "# For example for x1, each element of x1 will be repeated 50 times, so there will be 200 sample points at the end of it\n",
    "x1 = np.repeat(x1, 50) # This is a vector/aray\n",
    "x2 = np.repeat(x2, 50) # This is a vector/aray\n",
    "y = np.repeat(y, 50) # This is a vector/aray"
   ]
  },
  {
   "cell_type": "code",
   "execution_count": 6,
   "id": "22bc7f9a-aeb8-451d-9e68-e40e01ef6453",
   "metadata": {
    "tags": []
   },
   "outputs": [
    {
     "data": {
      "text/plain": [
       "array([8.99737567e-03, 1.54686136e-02, 3.79583288e-02, 3.25338617e-02,\n",
       "       4.47474163e-02, 1.99630146e-02, 2.01738570e-02, 3.17592230e-02,\n",
       "       2.65383348e-02, 1.57855217e-02, 3.29036115e-02, 4.67385057e-02,\n",
       "       4.44784934e-03, 2.35116527e-02, 1.28951775e-02, 1.11275672e-03,\n",
       "       9.23405507e-03, 2.80115688e-02, 2.14832645e-02, 1.79213985e-03,\n",
       "       3.82603105e-02, 4.68332193e-02, 1.21608410e-02, 3.96285074e-04,\n",
       "       2.69997418e-02, 3.65178173e-02, 2.24466704e-03, 3.78760403e-02,\n",
       "       3.50843417e-02, 2.52252830e-02, 1.82554749e-02, 4.48069423e-02,\n",
       "       1.65846025e-02, 1.41739333e-02, 4.85797894e-02, 1.42321205e-02,\n",
       "       2.33956667e-02, 1.76953784e-02, 1.50627712e-02, 4.27984396e-02,\n",
       "       8.77011208e-03, 3.49870808e-02, 1.75410395e-02, 4.61017867e-02,\n",
       "       3.64382707e-02, 3.70170280e-04, 6.71831934e-03, 3.13744322e-02,\n",
       "       4.12257665e-02, 2.58205953e-02, 4.04548053e-02, 3.71320646e-02,\n",
       "       4.50360235e-02, 1.42657633e-02, 2.43888446e-02, 3.38134256e-02,\n",
       "       2.13067660e-02, 1.62896977e-02, 4.13565382e-02, 3.95269902e-03,\n",
       "       2.99652237e-02, 1.22554097e-02, 4.52036347e-02, 2.64642290e-02,\n",
       "       3.26090805e-02, 3.96826424e-02, 2.34640117e-02, 5.69764470e-03,\n",
       "       2.85191515e-02, 2.82871245e-02, 2.65804706e-02, 3.80886150e-02,\n",
       "       4.60753470e-03, 1.86271433e-02, 1.26600514e-02, 2.53491676e-02,\n",
       "       3.47803736e-03, 2.91886342e-02, 8.49049398e-03, 4.32619661e-02,\n",
       "       1.02491786e-02, 3.24753927e-02, 3.45980274e-02, 6.04032149e-03,\n",
       "       2.83468320e-02, 2.30315484e-02, 3.44134817e-02, 3.33571528e-02,\n",
       "       2.26039681e-03, 1.39018643e-02, 2.96856061e-02, 2.32705483e-02,\n",
       "       7.05860253e-03, 1.35157811e-02, 3.18322191e-02, 1.60345849e-02,\n",
       "       2.44031284e-02, 7.18848434e-04, 9.78250563e-03, 2.76753854e-02,\n",
       "       1.01120968e+00, 1.04891936e+00, 1.01199258e+00, 1.02768845e+00,\n",
       "       1.03743420e+00, 1.00724832e+00, 1.00219973e+00, 1.04035754e+00,\n",
       "       1.01724828e+00, 1.00110498e+00, 1.02553332e+00, 1.01540830e+00,\n",
       "       1.02104276e+00, 1.00948447e+00, 1.02921986e+00, 1.02627179e+00,\n",
       "       1.00524297e+00, 1.02698838e+00, 1.02792323e+00, 1.03446163e+00,\n",
       "       1.01241712e+00, 1.03826646e+00, 1.00497519e+00, 1.01782299e+00,\n",
       "       1.03883864e+00, 1.04207616e+00, 1.03858687e+00, 1.02330793e+00,\n",
       "       1.04539179e+00, 1.02189238e+00, 1.04627345e+00, 1.02037610e+00,\n",
       "       1.03364193e+00, 1.01745907e+00, 1.01135078e+00, 1.02077827e+00,\n",
       "       1.04710102e+00, 1.00797682e+00, 1.01272089e+00, 1.02807969e+00,\n",
       "       1.02916102e+00, 1.04582476e+00, 1.00335749e+00, 1.00232185e+00,\n",
       "       1.03674868e+00, 1.04969420e+00, 1.01535275e+00, 1.04760054e+00,\n",
       "       1.01579559e+00, 1.01655930e+00, 1.01283870e+00, 1.04161090e+00,\n",
       "       1.02746287e+00, 1.02420002e+00, 1.00480054e+00, 1.01193600e+00,\n",
       "       1.01906971e+00, 1.01450716e+00, 1.00918741e+00, 1.00845353e+00,\n",
       "       1.04021691e+00, 1.00974607e+00, 1.01811768e+00, 1.02890019e+00,\n",
       "       1.04319754e+00, 1.04554309e+00, 1.00893196e+00, 1.03636294e+00,\n",
       "       1.00691885e+00, 1.01401269e+00, 1.01013504e+00, 1.00771722e+00,\n",
       "       1.02968675e+00, 1.04787624e+00, 1.02692797e+00, 1.03379774e+00,\n",
       "       1.03981234e+00, 1.01032216e+00, 1.00616511e+00, 1.02683113e+00,\n",
       "       1.00715829e+00, 1.00669013e+00, 1.04440430e+00, 1.04677173e+00,\n",
       "       1.04909620e+00, 1.01515793e+00, 1.01611048e+00, 1.03089932e+00,\n",
       "       1.03264827e+00, 1.02333330e+00, 1.03116959e+00, 1.01781890e+00,\n",
       "       1.04047443e+00, 1.04176358e+00, 1.00713511e+00, 1.02754610e+00,\n",
       "       1.02091947e+00, 1.01272965e+00, 1.04779359e+00, 1.01082166e+00])"
      ]
     },
     "execution_count": 6,
     "metadata": {},
     "output_type": "execute_result"
    }
   ],
   "source": [
    "# Add random noise to data points\n",
    "\n",
    "\n",
    "x1 = x1 + np.random.rand(x1.shape[0])*0.05\n",
    "x2 = x2 + np.random.rand(x2.shape[0])*0.05\n",
    "\n",
    "x1"
   ]
  },
  {
   "cell_type": "code",
   "execution_count": 7,
   "id": "95961569-17d6-4614-8242-61bbb752fe8d",
   "metadata": {
    "tags": []
   },
   "outputs": [
    {
     "data": {
      "text/plain": [
       "<matplotlib.collections.PathCollection at 0x10df53190>"
      ]
     },
     "execution_count": 7,
     "metadata": {},
     "output_type": "execute_result"
    },
    {
     "data": {
      "image/png": "[encoded data removed]",
      "text/plain": [
       "<Figure size 640x480 with 1 Axes>"
      ]
     },
     "metadata": {},
     "output_type": "display_data"
    }
   ],
   "source": [
    "plt.scatter(x1, x2, c = y)"
   ]
  },
  {
   "cell_type": "code",
   "execution_count": 8,
   "id": "d12fc99a-2a80-4eb5-bb26-89eb0f904911",
   "metadata": {
    "tags": []
   },
   "outputs": [],
   "source": [
    "# Combine x1 and x2\n",
    "X = np.column_stack((x1, x2))"
   ]
  },
  {
   "cell_type": "code",
   "execution_count": 9,
   "id": "dd297800-aa57-4109-b592-9c6903bceb98",
   "metadata": {
    "tags": []
   },
   "outputs": [
    {
     "name": "stdout",
     "output_type": "stream",
     "text": [
      "X shape:  (200, 2)\n",
      "y shape:  (200,)\n"
     ]
    }
   ],
   "source": [
    "print('X shape: ', X.shape)\n",
    "print('y shape: ', y.shape)"
   ]
  },
  {
   "cell_type": "code",
   "execution_count": 13,
   "id": "ea1645c1-dca8-4c42-a3e0-bbaaeb061d1d",
   "metadata": {
    "tags": []
   },
   "outputs": [],
   "source": [
    "# Diffusion\n",
    "# We need to shuffle the index\n",
    "# Generate indexes from 0 to 199\n",
    "shuffle_idx = np.arange(y.shape[0])"
   ]
  },
  {
   "cell_type": "code",
   "execution_count": 14,
   "id": "a96a2b35-72c0-477a-84c9-2d52eab798f6",
   "metadata": {
    "tags": []
   },
   "outputs": [
    {
     "name": "stdout",
     "output_type": "stream",
     "text": [
      "Shuffle Index:  [ 95  15  30 158 128 115  69 170 174  45  66 182 165  78 186 177  56 152\n",
      "  82  68 124  16 148  93  65  60  84  67 125 132   9  18  55  75 150 104\n",
      " 135 137 164  76  79 197  38  24 122 195  29  19 143  86 114 173   5 126\n",
      " 117  73 140  98 172  96 169  97  31  12  35 119  42 189  90 136  51 127\n",
      " 162  41 118 113  26 139 100 111   2  77  46 187 191  85 161  36 190  61\n",
      "  22 141 101  33  11 194 159   6  27 120   4  32 142 145 109 144  10  62\n",
      " 112 146 166   0 198 153  70 123  64  44 163  28  40 108 155 156  25  23\n",
      " 184 147  81  39 168  47  94 154  43 138   3 105  53 133 180 178 185  49\n",
      "  80  34   7 110  91  83 176 181  89   8  13  59 171 131  17  72 175 134\n",
      " 167 183  63  54 107  50 196  58  48  88  21  57 160 192 129  37 157 193\n",
      "   1  52 149 130 151 103  99 116  87  74 121 199  20 188  71 106  14  92\n",
      " 179 102]\n"
     ]
    }
   ],
   "source": [
    "# Random number generator with a seed\n",
    "# It is not trully random, but just a pseudo-random\n",
    "shuffle_rng = np.random.RandomState(42)\n",
    "shuffle_rng.shuffle(shuffle_idx)\n",
    "\n",
    "print('Shuffles Indices: ', shuffle_idx)"
   ]
  },
  {
   "cell_type": "code",
   "execution_count": 37,
   "id": "403ff8b6-a594-4d01-a661-96be12e5f1db",
   "metadata": {
    "tags": []
   },
   "outputs": [],
   "source": [
    "X, y = X[shuffle_idx], y[shuffle_idx]\n",
    "# ???? What does this syntax do\n",
    "\n",
    "split_point = int(0.7 * X.shape[0])\n",
    "\n",
    "X_train, X_test = X[shuffle_idx[:split_point]], X[shuffle_idx[split_point:]] \n",
    "# ??? What is this colon notation\n",
    "y_train, y_test = y[shuffle_idx[:split_point]], y[shuffle_idx[split_point:]]"
   ]
  },
  {
   "cell_type": "code",
   "execution_count": 48,
   "id": "778216d5-5f59-456f-bc26-f6355a497c6c",
   "metadata": {
    "tags": []
   },
   "outputs": [
    {
     "name": "stdout",
     "output_type": "stream",
     "text": [
      "zero mean:  [4.83740032e-17 1.98254112e-17]\n",
      "unit variance(standard deviation):  [1. 1.]\n"
     ]
    }
   ],
   "source": [
    "# Normalisation (zero mean, unit variance)\n",
    "# When axis is 0, you are doing an operation across rows. When doing axis = 1, it is an operation across columns\n",
    "# We only need the mean and variance for the training data set because is the one used by the machine to learn\n",
    "mu = X_train.mean(axis = 0)\n",
    "sigma = X_train.std(axis = 0)\n",
    "\n",
    "print('zero mean: ', mu)\n",
    "print('unit variance(standard deviation): ', sigma)\n",
    "\n",
    "X_train = (X_train - mu) /sigma\n",
    "X_test = (X_test - mu) /sigma"
   ]
  },
  {
   "cell_type": "code",
   "execution_count": 65,
   "id": "6715cec3-e059-4a51-87a2-418062cff355",
   "metadata": {
    "tags": []
   },
   "outputs": [
    {
     "data": {
      "text/plain": [
       "array([[0.],\n",
       "       [0.],\n",
       "       [0.]])"
      ]
     },
     "execution_count": 65,
     "metadata": {},
     "output_type": "execute_result"
    }
   ],
   "source": [
    "np.zeros((3,1), dtype = float)"
   ]
  },
  {
   "cell_type": "code",
   "execution_count": 67,
   "id": "284dbad6-1686-4e07-bfcc-4b2a2b179418",
   "metadata": {
    "tags": []
   },
   "outputs": [],
   "source": [
    "class Perceptron():\n",
    "    def _init_(self, num_features):\n",
    "        self.num_features = num_features\n",
    "        self.weights = np.zeros((num_features, 1), dtype = float)\n",
    "        self.bias = np.zeroes((1,), dtype = float)"
   ]
  },
  {
   "cell_type": "code",
   "execution_count": null,
   "id": "2738d29a-b9cb-41a1-ad8c-69285beec110",
   "metadata": {},
   "outputs": [],
   "source": []
  }
 ],
 "metadata": {
  "kernelspec": {
   "display_name": "Python 3 (ipykernel)",
   "language": "python",
   "name": "python3"
  },
  "language_info": {
   "codemirror_mode": {
    "name": "ipython",
    "version": 3
   },
   "file_extension": ".py",
   "mimetype": "text/x-python",
   "name": "python",
   "nbconvert_exporter": "python",
   "pygments_lexer": "ipython3",
   "version": "3.11.5"
  }
 },
 "nbformat": 4,
 "nbformat_minor": 5
}
