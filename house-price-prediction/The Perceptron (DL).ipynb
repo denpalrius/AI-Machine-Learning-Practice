{
 "cells": [
  {
   "cell_type": "markdown",
   "id": "986addb6-a39e-4558-878f-e4645be6386e",
   "metadata": {},
   "source": [
    "## The Percepton \n",
    "Using Python Classes"
   ]
  },
  {
   "cell_type": "code",
   "execution_count": 1,
   "id": "d334c1f7-b78e-49b7-8c23-c8fbdd54d834",
   "metadata": {
    "tags": []
   },
   "outputs": [],
   "source": [
    "import numpy as np\n",
    "import matplotlib.pyplot as plt"
   ]
  },
  {
   "cell_type": "code",
   "execution_count": 2,
   "id": "a40a8b70-d056-48db-8294-e457c51d0853",
   "metadata": {
    "tags": []
   },
   "outputs": [],
   "source": [
    "x1 = np.array([0., 0., 1., 1.], dtype = np.float32)\n",
    "x2 = np.array([0., 1., 0., 1.], dtype = np.float32)"
   ]
  },
  {
   "cell_type": "markdown",
   "id": "311498c8-07f5-4889-8cf4-7790d243dc35",
   "metadata": {},
   "source": [
    "`What is the dot after 0` \\\n",
    "`What is a floating pont number?`\\\n",
    "`How do you fo flo`\\\n",
    "`If you don't care about precision and space you can use the 32 bit float`\n"
   ]
  },
  {
   "cell_type": "code",
   "execution_count": 3,
   "id": "9f8d60fc-1f1d-443d-ab74-53677a082acb",
   "metadata": {},
   "outputs": [],
   "source": [
    "y = np.array([0,0,0,1], dtype = int)"
   ]
  },
  {
   "cell_type": "markdown",
   "id": "c8c90c55-dee5-4cf3-a221-1ba10802e1bf",
   "metadata": {},
   "source": [
    "`The 0 with no decimal means integer`"
   ]
  },
  {
   "cell_type": "code",
   "execution_count": 4,
   "id": "e6928135-04a2-41c5-bdd2-b4c93b233990",
   "metadata": {
    "tags": []
   },
   "outputs": [
    {
     "data": {
      "text/plain": [
       "<matplotlib.collections.PathCollection at 0x11a3e1e10>"
      ]
     },
     "execution_count": 4,
     "metadata": {},
     "output_type": "execute_result"
    },
    {
     "data": {
      "image/png": "[encoded data removed]",
      "text/plain": [
       "<Figure size 640x480 with 1 Axes>"
      ]
     },
     "metadata": {},
     "output_type": "display_data"
    }
   ],
   "source": [
    "import matplotlib.pyplot as plt\n",
    "plt.scatter(x1, x2, c=y)"
   ]
  },
  {
   "cell_type": "code",
   "execution_count": 5,
   "id": "edc44047-ce50-4566-a2fb-a999f52fa7ad",
   "metadata": {
    "tags": []
   },
   "outputs": [],
   "source": [
    "# Repeat the numbers from x1, x2 and y 50 times each\n",
    "# For example for x1, each element of x1 will be repeated 50 times, so there will be 200 sample points at the end of it\n",
    "x1 = np.repeat(x1, 50) # This is a vector/aray\n",
    "x2 = np.repeat(x2, 50) # This is a vector/aray\n",
    "y = np.repeat(y, 50) # This is a vector/aray"
   ]
  },
  {
   "cell_type": "code",
   "execution_count": 6,
   "id": "22bc7f9a-aeb8-451d-9e68-e40e01ef6453",
   "metadata": {
    "tags": []
   },
   "outputs": [
    {
     "data": {
      "text/plain": [
       "array([1.78880460e-03, 3.89597137e-02, 2.01736286e-02, 3.19566129e-02,\n",
       "       2.31873302e-02, 1.02980448e-02, 3.76637387e-02, 5.84879420e-03,\n",
       "       4.21000279e-02, 4.62811868e-02, 1.02347898e-02, 2.02799807e-02,\n",
       "       2.49447641e-02, 9.57272104e-03, 4.50101411e-02, 2.32375519e-02,\n",
       "       5.59734220e-03, 2.66971897e-02, 2.37706477e-02, 4.06879122e-02,\n",
       "       3.01054695e-02, 4.18085054e-02, 2.36520671e-02, 9.32010855e-03,\n",
       "       6.63350531e-03, 2.32131615e-02, 2.70084737e-02, 4.81024332e-02,\n",
       "       1.32591751e-02, 4.86623035e-02, 4.73322212e-02, 3.20728276e-02,\n",
       "       2.44497841e-02, 5.67870483e-03, 2.24090516e-02, 1.56886915e-02,\n",
       "       4.69666387e-02, 2.66788177e-02, 2.18525247e-03, 3.14728306e-02,\n",
       "       3.25458846e-02, 1.32845644e-02, 2.16800973e-02, 2.36876490e-02,\n",
       "       1.84582505e-02, 2.09972721e-02, 1.01177943e-02, 4.65416434e-02,\n",
       "       5.41444770e-04, 3.44904305e-02, 2.14649022e-02, 8.33477712e-03,\n",
       "       2.37441923e-02, 2.99175366e-02, 2.69886899e-02, 1.92124524e-02,\n",
       "       3.17902656e-02, 4.10533400e-02, 3.14613013e-02, 5.38365409e-03,\n",
       "       8.50588555e-03, 2.08147958e-02, 3.19115581e-02, 2.85220332e-02,\n",
       "       2.55183940e-02, 4.34503467e-02, 4.71770743e-02, 2.31384384e-02,\n",
       "       7.53342631e-04, 4.42453640e-02, 1.63565837e-02, 3.50340414e-02,\n",
       "       1.32218935e-02, 1.15037642e-02, 3.08281874e-03, 4.12899295e-03,\n",
       "       4.20049371e-02, 3.61250594e-02, 4.10546232e-02, 4.03792810e-02,\n",
       "       1.34757785e-02, 3.38283012e-02, 8.65938654e-04, 4.19939121e-02,\n",
       "       2.45636750e-02, 2.27766920e-02, 1.27034049e-03, 6.21682294e-03,\n",
       "       1.86938301e-02, 8.58667462e-03, 3.62517994e-02, 2.08185284e-02,\n",
       "       1.87110118e-02, 1.10349553e-02, 2.51217443e-02, 1.47848836e-02,\n",
       "       4.16806952e-02, 4.76112071e-02, 3.78636160e-02, 6.42004613e-03,\n",
       "       1.01972256e+00, 1.04336413e+00, 1.00830251e+00, 1.04357472e+00,\n",
       "       1.00608833e+00, 1.00054043e+00, 1.02018266e+00, 1.02984301e+00,\n",
       "       1.02851029e+00, 1.02620505e+00, 1.01341984e+00, 1.04626894e+00,\n",
       "       1.02146327e+00, 1.03614879e+00, 1.01024080e+00, 1.00386439e+00,\n",
       "       1.02981550e+00, 1.00128019e+00, 1.01364455e+00, 1.00874547e+00,\n",
       "       1.01473185e+00, 1.01090770e+00, 1.01095844e+00, 1.01283242e+00,\n",
       "       1.00151166e+00, 1.02284630e+00, 1.02901918e+00, 1.00357580e+00,\n",
       "       1.03452129e+00, 1.01120511e+00, 1.01506997e+00, 1.04445229e+00,\n",
       "       1.02058770e+00, 1.00722893e+00, 1.04345629e+00, 1.02188612e+00,\n",
       "       1.01021787e+00, 1.01843618e+00, 1.01135516e+00, 1.00390217e+00,\n",
       "       1.03933195e+00, 1.01812489e+00, 1.04912430e+00, 1.04584793e+00,\n",
       "       1.03757198e+00, 1.03101577e+00, 1.04897417e+00, 1.02496796e+00,\n",
       "       1.04101898e+00, 1.01697773e+00, 1.03652591e+00, 1.03914629e+00,\n",
       "       1.02107495e+00, 1.02373432e+00, 1.02601933e+00, 1.04575759e+00,\n",
       "       1.01443177e+00, 1.02929751e+00, 1.01041007e+00, 1.02083651e+00,\n",
       "       1.01626468e+00, 1.02469140e+00, 1.03714705e+00, 1.01337936e+00,\n",
       "       1.01461554e+00, 1.01766793e+00, 1.03400172e+00, 1.03474768e+00,\n",
       "       1.03629028e+00, 1.00804930e+00, 1.04460194e+00, 1.00182487e+00,\n",
       "       1.04015868e+00, 1.02491689e+00, 1.02519444e+00, 1.01973598e+00,\n",
       "       1.00403045e+00, 1.03988942e+00, 1.01008668e+00, 1.03258345e+00,\n",
       "       1.00728648e+00, 1.01166173e+00, 1.01678658e+00, 1.03390854e+00,\n",
       "       1.02702764e+00, 1.02378784e+00, 1.01953475e+00, 1.00353293e+00,\n",
       "       1.02753636e+00, 1.02976125e+00, 1.04513963e+00, 1.04700809e+00,\n",
       "       1.03272510e+00, 1.02723162e+00, 1.00434907e+00, 1.04991702e+00,\n",
       "       1.01928066e+00, 1.03304068e+00, 1.04472126e+00, 1.04244769e+00])"
      ]
     },
     "execution_count": 6,
     "metadata": {},
     "output_type": "execute_result"
    }
   ],
   "source": [
    "# Add random noise to data points\n",
    "\n",
    "x1 = x1 + np.random.rand(x1.shape[0])*0.05\n",
    "x2 = x2 + np.random.rand(x2.shape[0])*0.05\n",
    "\n",
    "x1"
   ]
  },
  {
   "cell_type": "code",
   "execution_count": 7,
   "id": "95961569-17d6-4614-8242-61bbb752fe8d",
   "metadata": {
    "tags": []
   },
   "outputs": [
    {
     "data": {
      "text/plain": [
       "<matplotlib.collections.PathCollection at 0x11a555090>"
      ]
     },
     "execution_count": 7,
     "metadata": {},
     "output_type": "execute_result"
    },
    {
     "data": {
      "image/png": "[encoded data removed]",
      "text/plain": [
       "<Figure size 640x480 with 1 Axes>"
      ]
     },
     "metadata": {},
     "output_type": "display_data"
    }
   ],
   "source": [
    "plt.scatter(x1, x2, c = y)"
   ]
  },
  {
   "cell_type": "code",
   "execution_count": 8,
   "id": "d12fc99a-2a80-4eb5-bb26-89eb0f904911",
   "metadata": {
    "tags": []
   },
   "outputs": [],
   "source": [
    "# Combine x1 and x2\n",
    "X = np.column_stack((x1, x2))"
   ]
  },
  {
   "cell_type": "code",
   "execution_count": 9,
   "id": "dd297800-aa57-4109-b592-9c6903bceb98",
   "metadata": {
    "tags": []
   },
   "outputs": [
    {
     "name": "stdout",
     "output_type": "stream",
     "text": [
      "X shape:  (200, 2)\n",
      "y shape:  (200,)\n"
     ]
    }
   ],
   "source": [
    "print('X shape: ', X.shape)\n",
    "print('y shape: ', y.shape)"
   ]
  },
  {
   "cell_type": "code",
   "execution_count": 10,
   "id": "ea1645c1-dca8-4c42-a3e0-bbaaeb061d1d",
   "metadata": {
    "tags": []
   },
   "outputs": [],
   "source": [
    "# Diffusion\n",
    "# We need to shuffle the index\n",
    "# Generate indexes from 0 to 199\n",
    "shuffle_idx = np.arange(y.shape[0])"
   ]
  },
  {
   "cell_type": "code",
   "execution_count": 11,
   "id": "a96a2b35-72c0-477a-84c9-2d52eab798f6",
   "metadata": {
    "tags": []
   },
   "outputs": [
    {
     "name": "stdout",
     "output_type": "stream",
     "text": [
      "Shuffles Indices:  [ 95  15  30 158 128 115  69 170 174  45  66 182 165  78 186 177  56 152\n",
      "  82  68 124  16 148  93  65  60  84  67 125 132   9  18  55  75 150 104\n",
      " 135 137 164  76  79 197  38  24 122 195  29  19 143  86 114 173   5 126\n",
      " 117  73 140  98 172  96 169  97  31  12  35 119  42 189  90 136  51 127\n",
      " 162  41 118 113  26 139 100 111   2  77  46 187 191  85 161  36 190  61\n",
      "  22 141 101  33  11 194 159   6  27 120   4  32 142 145 109 144  10  62\n",
      " 112 146 166   0 198 153  70 123  64  44 163  28  40 108 155 156  25  23\n",
      " 184 147  81  39 168  47  94 154  43 138   3 105  53 133 180 178 185  49\n",
      "  80  34   7 110  91  83 176 181  89   8  13  59 171 131  17  72 175 134\n",
      " 167 183  63  54 107  50 196  58  48  88  21  57 160 192 129  37 157 193\n",
      "   1  52 149 130 151 103  99 116  87  74 121 199  20 188  71 106  14  92\n",
      " 179 102]\n"
     ]
    }
   ],
   "source": [
    "# Random number generator with a seed\n",
    "# It is not trully random, but just a pseudo-random\n",
    "shuffle_rng = np.random.RandomState(42)\n",
    "shuffle_rng.shuffle(shuffle_idx)\n",
    "\n",
    "print('Shuffles Indices: ', shuffle_idx)"
   ]
  },
  {
   "cell_type": "code",
   "execution_count": 12,
   "id": "403ff8b6-a594-4d01-a661-96be12e5f1db",
   "metadata": {
    "tags": []
   },
   "outputs": [],
   "source": [
    "X, y = X[shuffle_idx], y[shuffle_idx]\n",
    "# ???? What does this syntax do\n",
    "\n",
    "split_point = int(0.7 * X.shape[0])\n",
    "\n",
    "X_train, X_test = X[shuffle_idx[:split_point]], X[shuffle_idx[split_point:]] \n",
    "# ??? What is this colon notation\n",
    "y_train, y_test = y[shuffle_idx[:split_point]], y[shuffle_idx[split_point:]]"
   ]
  },
  {
   "cell_type": "code",
   "execution_count": 13,
   "id": "778216d5-5f59-456f-bc26-f6355a497c6c",
   "metadata": {
    "tags": []
   },
   "outputs": [
    {
     "name": "stdout",
     "output_type": "stream",
     "text": [
      "zero mean:  [0.4876429  0.53377461]\n",
      "unit variance(standard deviation):  [0.49884109 0.49900665]\n"
     ]
    }
   ],
   "source": [
    "# Normalisation (zero mean, unit variance)\n",
    "# When axis is 0, you are doing an operation across rows. When doing axis = 1, it is an operation across columns\n",
    "# We only need the mean and variance for the training data set because is the one used by the machine to learn\n",
    "mu = X_train.mean(axis = 0)\n",
    "sigma = X_train.std(axis = 0)\n",
    "\n",
    "print('zero mean: ', mu)\n",
    "print('unit variance(standard deviation): ', sigma)\n",
    "\n",
    "X_train = (X_train - mu) /sigma\n",
    "X_test = (X_test - mu) /sigma"
   ]
  },
  {
   "cell_type": "code",
   "execution_count": 14,
   "id": "6715cec3-e059-4a51-87a2-418062cff355",
   "metadata": {
    "tags": []
   },
   "outputs": [
    {
     "data": {
      "text/plain": [
       "array([[0.],\n",
       "       [0.],\n",
       "       [0.]])"
      ]
     },
     "execution_count": 14,
     "metadata": {},
     "output_type": "execute_result"
    }
   ],
   "source": [
    "np.zeros((3,1), dtype = float)"
   ]
  },
  {
   "cell_type": "code",
   "execution_count": 15,
   "id": "284dbad6-1686-4e07-bfcc-4b2a2b179418",
   "metadata": {
    "tags": []
   },
   "outputs": [],
   "source": [
    "class Perceptron():\n",
    "    def _init_(self, num_features):\n",
    "        self.num_features = num_features\n",
    "        self.weights = np.zeros((num_features, 1), dtype = float)\n",
    "        self.bias = np.zeroes((1,), dtype = float)"
   ]
  },
  {
   "cell_type": "code",
   "execution_count": 35,
   "id": "2738d29a-b9cb-41a1-ad8c-69285beec110",
   "metadata": {},
   "outputs": [
    {
     "data": {
      "image/png": "[encoded data removed]",
      "text/plain": [
       "<Figure size 640x480 with 2 Axes>"
      ]
     },
     "metadata": {},
     "output_type": "display_data"
    }
   ],
   "source": [
    "a = np.array([5,7,8,7,2,17,2,9,4,11,12,9,6])\n",
    "b = np.array([99,86,87,88,111,86,103,87,94,78,77,85,86])\n",
    "\n",
    "colors = [0, 10, 20, 30, 40, 45, 50, 55, 60, 70, 80, 90, 100]\n",
    "\n",
    "plt.scatter(b, a, c=colors, cmap='gist_rainbow_r')\n",
    "plt.colorbar()\n",
    "\n",
    "plt.show()"
   ]
  },
  {
   "cell_type": "code",
   "execution_count": null,
   "id": "292ff360-6355-44f0-bc9a-6046d9ce55e6",
   "metadata": {},
   "outputs": [],
   "source": []
  }
 ],
 "metadata": {
  "kernelspec": {
   "display_name": "Python 3 (ipykernel)",
   "language": "python",
   "name": "python3"
  },
  "language_info": {
   "codemirror_mode": {
    "name": "ipython",
    "version": 3
   },
   "file_extension": ".py",
   "mimetype": "text/x-python",
   "name": "python",
   "nbconvert_exporter": "python",
   "pygments_lexer": "ipython3",
   "version": "3.11.5"
  }
 },
 "nbformat": 4,
 "nbformat_minor": 5
}
