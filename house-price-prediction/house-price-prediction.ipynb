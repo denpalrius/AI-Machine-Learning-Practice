{
 "cells": [
  {
   "cell_type": "code",
   "execution_count": 1,
   "id": "5a2ec049",
   "metadata": {},
   "outputs": [],
   "source": [
    "import numpy as np\n",
    "import pandas as pd\n",
    "import matplotlib.pyplot as plt"
   ]
  },
  {
   "cell_type": "code",
   "execution_count": 2,
   "id": "312ce8e6",
   "metadata": {},
   "outputs": [],
   "source": [
    "data = pd.read_csv(\"housing.csv\")\n",
    "data.dropna(inplace = True)"
   ]
  },
  {
   "cell_type": "code",
   "execution_count": 3,
   "id": "b779de59",
   "metadata": {},
   "outputs": [
    {
     "name": "stdout",
     "output_type": "stream",
     "text": [
      "<class 'pandas.core.frame.DataFrame'>\n",
      "Index: 20433 entries, 0 to 20639\n",
      "Data columns (total 10 columns):\n",
      " #   Column              Non-Null Count  Dtype  \n",
      "---  ------              --------------  -----  \n",
      " 0   longitude           20433 non-null  float64\n",
      " 1   latitude            20433 non-null  float64\n",
      " 2   housing_median_age  20433 non-null  float64\n",
      " 3   total_rooms         20433 non-null  float64\n",
      " 4   total_bedrooms      20433 non-null  float64\n",
      " 5   population          20433 non-null  float64\n",
      " 6   households          20433 non-null  float64\n",
      " 7   median_income       20433 non-null  float64\n",
      " 8   median_house_value  20433 non-null  float64\n",
      " 9   ocean_proximity     20433 non-null  object \n",
      "dtypes: float64(9), object(1)\n",
      "memory usage: 1.7+ MB\n"
     ]
    }
   ],
   "source": [
    "data.info() "
   ]
  },
  {
   "cell_type": "code",
   "execution_count": 4,
   "id": "2495e779",
   "metadata": {},
   "outputs": [
    {
     "name": "stdout",
     "output_type": "stream",
     "text": [
      "Size (Number of elements(Columns x rows) = 204330\n",
      "Shape (Tuple representation of the Dataframe's dimensionality) = (20433, 10)\n",
      "ndim (int representing the number of axes/array dimensions) = 2\n"
     ]
    }
   ],
   "source": [
    "# Dimensionality - Shape or size of data\n",
    "print(\"Size (Number of elements(Columns x rows) = {}\".format(data.size))\n",
    "print(\"Shape (Tuple representation of the Dataframe's dimensionality) = {}\".format(data.shape))\n",
    "print(\"ndim (int representing the number of axes/array dimensions) = {}\".format(data.ndim))"
   ]
  },
  {
   "cell_type": "code",
   "execution_count": 5,
   "id": "cb76e6eb",
   "metadata": {},
   "outputs": [
    {
     "name": "stdout",
     "output_type": "stream",
     "text": [
      "Shape of X = (20433, 9)\n"
     ]
    }
   ],
   "source": [
    "# Define Features(X) and lables (y) #This is a DataFrame. A 2D array\n",
    "X = data.drop('median_house_value', axis = 1)\n",
    "print(\"Shape of X = {}\".format(X.shape))"
   ]
  },
  {
   "cell_type": "code",
   "execution_count": 6,
   "id": "670ea28f",
   "metadata": {},
   "outputs": [
    {
     "name": "stdout",
     "output_type": "stream",
     "text": [
      "Shape of y = (20433,)\n"
     ]
    }
   ],
   "source": [
    "y = data['median_house_value'] # This is a series(Single dimension array. Normal array)\n",
    "print(\"Shape of y = {}\".format(y.shape)) "
   ]
  },
  {
   "cell_type": "code",
   "execution_count": 9,
   "id": "72d614b1",
   "metadata": {},
   "outputs": [
    {
     "data": {
      "text/plain": [
       "147114"
      ]
     },
     "execution_count": 9,
     "metadata": {},
     "output_type": "execute_result"
    }
   ],
   "source": [
    "# Split training data\n",
    "from sklearn.model_selection import train_test_split \n",
    "X_train, X_test, y_train, y_test = train_test_split(X, y, test_size = 0.2, random_state = 0)\n",
    "X_train.size"
   ]
  },
  {
   "cell_type": "code",
   "execution_count": null,
   "id": "d1837765",
   "metadata": {},
   "outputs": [],
   "source": []
  }
 ],
 "metadata": {
  "kernelspec": {
   "display_name": "Python 3 (ipykernel)",
   "language": "python",
   "name": "python3"
  },
  "language_info": {
   "codemirror_mode": {
    "name": "ipython",
    "version": 3
   },
   "file_extension": ".py",
   "mimetype": "text/x-python",
   "name": "python",
   "nbconvert_exporter": "python",
   "pygments_lexer": "ipython3",
   "version": "3.11.5"
  }
 },
 "nbformat": 4,
 "nbformat_minor": 5
}
